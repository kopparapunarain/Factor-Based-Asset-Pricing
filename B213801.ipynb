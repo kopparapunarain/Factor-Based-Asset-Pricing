{
  "cells": [
    {
      "cell_type": "markdown",
      "metadata": {
        "id": "l7teLAFc0g_J"
      },
      "source": [
        "# ***`ASSET PRICING WITH LSTM + AUTOENCODER`***\n",
        "\n",
        "\n",
        "------\n",
        "------\n",
        "\n",
        "\n",
        "\n",
        "\n",
        "\n"
      ]
    },
    {
      "cell_type": "markdown",
      "metadata": {
        "id": "T0MPbsjkwFFR"
      },
      "source": [
        "# SETUP\n",
        "\n",
        "\n"
      ]
    },
    {
      "cell_type": "code",
      "execution_count": null,
      "metadata": {
        "colab": {
          "base_uri": "https://localhost:8080/"
        },
        "id": "6eou0U7EEoF5",
        "outputId": "e72decd7-1c14-4652-c8e5-e4c987ca3f33"
      },
      "outputs": [
        {
          "output_type": "stream",
          "name": "stderr",
          "text": [
            "The seaborn styles shipped by Matplotlib are deprecated since 3.6, as they no longer correspond to the styles shipped by seaborn. However, they will remain available as 'seaborn-v0_8-<style>'. Alternatively, directly use the seaborn API instead.\n"
          ]
        }
      ],
      "source": [
        "import os\n",
        "import random\n",
        "import tqdm\n",
        "import numpy as np\n",
        "import pandas as pd\n",
        "import shap\n",
        "import tensorflow as tf\n",
        "from tensorflow import keras\n",
        "from keras.models import *\n",
        "from keras.layers import *\n",
        "from keras.callbacks import *\n",
        "from keras import backend as K\n",
        "from keras.optimizers import Adam\n",
        "from keras.layers import Dense, Embedding, SimpleRNN\n",
        "from keras.models import Sequential\n",
        "from scipy import stats\n",
        "from pprint import pprint\n",
        "import xgboost as xgb\n",
        "from sklearn.model_selection import GridSearchCV\n",
        "from sklearn.metrics import mean_squared_error, mean_absolute_error\n",
        "from sklearn.model_selection import train_test_split\n",
        "import seaborn as sns\n",
        "import matplotlib.pyplot as plt\n",
        "from sklearn.linear_model import *\n",
        "from sklearn.utils import resample\n",
        "from sklearn.svm import SVC\n",
        "from sklearn.preprocessing import StandardScaler, OneHotEncoder\n",
        "from sklearn.compose import make_column_transformer\n",
        "from sklearn.metrics import classification_report, confusion_matrix, accuracy_score, mean_squared_error, mean_absolute_error\n",
        "from sklearn.pipeline import make_pipeline\n",
        "\n",
        "from pylab import plt, mpl\n",
        "plt.style.use('seaborn')\n",
        "mpl.rcParams['savefig.dpi'] = 300\n",
        "mpl.rcParams['font.family'] = 'serif'\n",
        "os.environ['PYTHONHASHSEED'] = '0'\n",
        "\n",
        "import os\n",
        "os.environ['TF_FORCE_GPU_ALLOW_GROWTH'] = 'true'\n",
        "\n",
        "%matplotlib inline\n",
        "\n",
        "np.set_printoptions(precision=4, suppress=True)\n",
        "\n",
        "tf.random.set_seed(100)"
      ]
    },
    {
      "cell_type": "markdown",
      "metadata": {
        "id": "ENFi10JowQa1"
      },
      "source": [
        "# USING GPU "
      ]
    },
    {
      "cell_type": "code",
      "execution_count": null,
      "metadata": {
        "colab": {
          "base_uri": "https://localhost:8080/"
        },
        "id": "YspyGFv2Hp4V",
        "outputId": "2b08f828-56e6-4dc7-97ef-826941890802"
      },
      "outputs": [
        {
          "output_type": "stream",
          "name": "stdout",
          "text": [
            "1 Physical GPUs, 1 Logical GPUs\n"
          ]
        }
      ],
      "source": [
        "# Get the list of available GPUs\n",
        "gpus = tf.config.experimental.list_physical_devices('GPU')\n",
        "\n",
        "# Limit GPU memory growth\n",
        "physical_devices = tf.config.list_physical_devices('GPU')\n",
        "if len(physical_devices) > 0:\n",
        "    for device in physical_devices:\n",
        "        tf.config.experimental.set_memory_growth(device, True)\n",
        "        \n",
        "# If there is at least one GPU available, set it to be used\n",
        "if gpus:\n",
        "    try:\n",
        "        # Set memory growth for each GPU\n",
        "        for gpu in gpus:\n",
        "            tf.config.experimental.set_memory_growth(gpu, True)\n",
        "        # Set visible devices to be used\n",
        "        tf.config.set_visible_devices(gpus[0], 'GPU')\n",
        "        # Print the available and logical GPUs\n",
        "        logical_gpus = tf.config.experimental.list_logical_devices('GPU')\n",
        "        print(len(gpus), \"Physical GPUs,\", len(logical_gpus), \"Logical GPUs\")\n",
        "    except RuntimeError as e:\n",
        "        # In case of any errors, fall back to CPU\n",
        "        print(e)\n",
        "        device = '/device:CPU:0'\n",
        "else:\n",
        "    print(\"No GPUs available, using CPU instead\")\n",
        "    device = '/device:CPU:0'"
      ]
    },
    {
      "cell_type": "markdown",
      "metadata": {
        "id": "AG55uDeAwZ1j"
      },
      "source": [
        "# PRE PROCESSING THE DATA\n"
      ]
    },
    {
      "cell_type": "code",
      "execution_count": null,
      "metadata": {
        "colab": {
          "base_uri": "https://localhost:8080/",
          "height": 670
        },
        "id": "FVXB6XlgomqX",
        "outputId": "ca84ef37-0278-4ab6-af4d-1995387cbec7"
      },
      "outputs": [
        {
          "output_type": "stream",
          "name": "stdout",
          "text": [
            "Drive already mounted at /drive; to attempt to forcibly remount, call drive.mount(\"/drive\", force_remount=True).\n"
          ]
        },
        {
          "output_type": "execute_result",
          "data": {
            "text/plain": [
              "             permno       RET         mvel1        prc    SHROUT      beta  \\\n",
              "DATE                                                                         \n",
              "2016-07-29  85314.0  0.021960  5.544650e+04  17.679899    3206.0  0.619577   \n",
              "2016-07-29  85340.0  0.014361  6.094650e+05  16.280001   37808.0 -0.034024   \n",
              "2016-07-29  85339.0  0.003781  4.775649e+05  15.340000   31132.0 -0.008510   \n",
              "2016-07-29  85337.0  0.061512  1.706276e+05  52.020000    3454.0  0.809356   \n",
              "2016-07-29  85332.0  0.045014  2.114073e+05  36.680000    6030.0  0.964580   \n",
              "2016-07-29  85320.0 -0.127869  2.131950e+04   7.980000    2330.0  0.187350   \n",
              "2016-07-29  85319.0  0.001105  3.801976e+06  45.310001   84003.0  0.869740   \n",
              "2016-07-29  85299.0  0.098277  1.170267e+06  51.349998   25058.0  0.854367   \n",
              "2016-07-29  85271.0  0.040430  3.367041e+06  16.469999  215452.0  0.893780   \n",
              "2016-07-29  85285.0 -0.060423  9.622832e+04   3.110000   29072.0  1.857885   \n",
              "\n",
              "              betasq     chmom     dolvol   idiovol  ...  baspread  \\\n",
              "DATE                                                 ...             \n",
              "2016-07-29  0.383876  0.067509   9.566825  0.042310  ...  0.031709   \n",
              "2016-07-29  0.001158  0.059744  12.693825  0.014847  ...  0.008381   \n",
              "2016-07-29  0.000072 -0.025287  12.385099  0.013247  ...  0.007318   \n",
              "2016-07-29  0.655057  0.093288  12.239133  0.033486  ...  0.016738   \n",
              "2016-07-29  0.930414  0.049906  11.547285  0.025500  ...  0.024221   \n",
              "2016-07-29  0.035100  1.538280   5.463228  0.155574  ...  0.154107   \n",
              "2016-07-29  0.756448  0.047188  14.361088  0.028935  ...  0.015899   \n",
              "2016-07-29  0.729943 -0.067012  13.384019  0.023279  ...  0.019526   \n",
              "2016-07-29  0.798843  0.130221  16.248879  0.025935  ...  0.009144   \n",
              "2016-07-29  3.451737 -0.469316  11.163191  0.106079  ...  0.047559   \n",
              "\n",
              "                     ill    maxret    retvol  std_dolvol    std_turn  \\\n",
              "DATE                                                                   \n",
              "2016-07-29  5.580000e-06  0.055880  0.021364    2.132901    1.061602   \n",
              "2016-07-29  2.630000e-09  0.008895  0.005342    0.384365    1.110735   \n",
              "2016-07-29  3.990000e-09  0.007314  0.003521    0.381065    0.787082   \n",
              "2016-07-29  2.750000e-08  0.026064  0.017757    0.606336    4.088475   \n",
              "2016-07-29  3.190000e-08  0.023961  0.014717    0.594446    1.862506   \n",
              "2016-07-29  7.700000e-06  0.485981  0.145591    2.403231  112.700337   \n",
              "2016-07-29  9.280000e-10  0.034278  0.015411    0.416535    1.405638   \n",
              "2016-07-29  5.740000e-09  0.027153  0.017771    0.475575    1.755443   \n",
              "2016-07-29  1.490000e-10  0.017341  0.006536    0.408870    4.873648   \n",
              "2016-07-29  1.090000e-07  0.042623  0.022781    0.504013    1.141594   \n",
              "\n",
              "               zerotrade  sic2         bm     bm_ia  \n",
              "DATE                                                 \n",
              "2016-07-29  1.240000e-07  73.0   0.295230 -0.164131  \n",
              "2016-07-29  2.920000e-08  67.0   0.587311 -0.129934  \n",
              "2016-07-29  5.010000e-08  67.0   0.587311 -0.129934  \n",
              "2016-07-29  1.820000e-08  20.0  10.766907  5.366652  \n",
              "2016-07-29  4.310000e-08  60.0   0.746800 -0.076805  \n",
              "2016-07-29  1.300000e-10  73.0   0.579862  0.120502  \n",
              "2016-07-29  3.290000e-08  73.0   0.304966 -0.154394  \n",
              "2016-07-29  2.920000e-08  60.0   0.509236 -0.314368  \n",
              "2016-07-29  7.710000e-09  67.0   1.460924  0.893274  \n",
              "2016-07-29  4.120000e-08  38.0   0.147467 -0.857866  \n",
              "\n",
              "[10 rows x 100 columns]"
            ],
            "text/html": [
              "\n",
              "  <div id=\"df-c8c6015c-8c2f-4fc7-bed3-df88a80503d6\">\n",
              "    <div class=\"colab-df-container\">\n",
              "      <div>\n",
              "<style scoped>\n",
              "    .dataframe tbody tr th:only-of-type {\n",
              "        vertical-align: middle;\n",
              "    }\n",
              "\n",
              "    .dataframe tbody tr th {\n",
              "        vertical-align: top;\n",
              "    }\n",
              "\n",
              "    .dataframe thead th {\n",
              "        text-align: right;\n",
              "    }\n",
              "</style>\n",
              "<table border=\"1\" class=\"dataframe\">\n",
              "  <thead>\n",
              "    <tr style=\"text-align: right;\">\n",
              "      <th></th>\n",
              "      <th>permno</th>\n",
              "      <th>RET</th>\n",
              "      <th>mvel1</th>\n",
              "      <th>prc</th>\n",
              "      <th>SHROUT</th>\n",
              "      <th>beta</th>\n",
              "      <th>betasq</th>\n",
              "      <th>chmom</th>\n",
              "      <th>dolvol</th>\n",
              "      <th>idiovol</th>\n",
              "      <th>...</th>\n",
              "      <th>baspread</th>\n",
              "      <th>ill</th>\n",
              "      <th>maxret</th>\n",
              "      <th>retvol</th>\n",
              "      <th>std_dolvol</th>\n",
              "      <th>std_turn</th>\n",
              "      <th>zerotrade</th>\n",
              "      <th>sic2</th>\n",
              "      <th>bm</th>\n",
              "      <th>bm_ia</th>\n",
              "    </tr>\n",
              "    <tr>\n",
              "      <th>DATE</th>\n",
              "      <th></th>\n",
              "      <th></th>\n",
              "      <th></th>\n",
              "      <th></th>\n",
              "      <th></th>\n",
              "      <th></th>\n",
              "      <th></th>\n",
              "      <th></th>\n",
              "      <th></th>\n",
              "      <th></th>\n",
              "      <th></th>\n",
              "      <th></th>\n",
              "      <th></th>\n",
              "      <th></th>\n",
              "      <th></th>\n",
              "      <th></th>\n",
              "      <th></th>\n",
              "      <th></th>\n",
              "      <th></th>\n",
              "      <th></th>\n",
              "      <th></th>\n",
              "    </tr>\n",
              "  </thead>\n",
              "  <tbody>\n",
              "    <tr>\n",
              "      <th>2016-07-29</th>\n",
              "      <td>85314.0</td>\n",
              "      <td>0.021960</td>\n",
              "      <td>5.544650e+04</td>\n",
              "      <td>17.679899</td>\n",
              "      <td>3206.0</td>\n",
              "      <td>0.619577</td>\n",
              "      <td>0.383876</td>\n",
              "      <td>0.067509</td>\n",
              "      <td>9.566825</td>\n",
              "      <td>0.042310</td>\n",
              "      <td>...</td>\n",
              "      <td>0.031709</td>\n",
              "      <td>5.580000e-06</td>\n",
              "      <td>0.055880</td>\n",
              "      <td>0.021364</td>\n",
              "      <td>2.132901</td>\n",
              "      <td>1.061602</td>\n",
              "      <td>1.240000e-07</td>\n",
              "      <td>73.0</td>\n",
              "      <td>0.295230</td>\n",
              "      <td>-0.164131</td>\n",
              "    </tr>\n",
              "    <tr>\n",
              "      <th>2016-07-29</th>\n",
              "      <td>85340.0</td>\n",
              "      <td>0.014361</td>\n",
              "      <td>6.094650e+05</td>\n",
              "      <td>16.280001</td>\n",
              "      <td>37808.0</td>\n",
              "      <td>-0.034024</td>\n",
              "      <td>0.001158</td>\n",
              "      <td>0.059744</td>\n",
              "      <td>12.693825</td>\n",
              "      <td>0.014847</td>\n",
              "      <td>...</td>\n",
              "      <td>0.008381</td>\n",
              "      <td>2.630000e-09</td>\n",
              "      <td>0.008895</td>\n",
              "      <td>0.005342</td>\n",
              "      <td>0.384365</td>\n",
              "      <td>1.110735</td>\n",
              "      <td>2.920000e-08</td>\n",
              "      <td>67.0</td>\n",
              "      <td>0.587311</td>\n",
              "      <td>-0.129934</td>\n",
              "    </tr>\n",
              "    <tr>\n",
              "      <th>2016-07-29</th>\n",
              "      <td>85339.0</td>\n",
              "      <td>0.003781</td>\n",
              "      <td>4.775649e+05</td>\n",
              "      <td>15.340000</td>\n",
              "      <td>31132.0</td>\n",
              "      <td>-0.008510</td>\n",
              "      <td>0.000072</td>\n",
              "      <td>-0.025287</td>\n",
              "      <td>12.385099</td>\n",
              "      <td>0.013247</td>\n",
              "      <td>...</td>\n",
              "      <td>0.007318</td>\n",
              "      <td>3.990000e-09</td>\n",
              "      <td>0.007314</td>\n",
              "      <td>0.003521</td>\n",
              "      <td>0.381065</td>\n",
              "      <td>0.787082</td>\n",
              "      <td>5.010000e-08</td>\n",
              "      <td>67.0</td>\n",
              "      <td>0.587311</td>\n",
              "      <td>-0.129934</td>\n",
              "    </tr>\n",
              "    <tr>\n",
              "      <th>2016-07-29</th>\n",
              "      <td>85337.0</td>\n",
              "      <td>0.061512</td>\n",
              "      <td>1.706276e+05</td>\n",
              "      <td>52.020000</td>\n",
              "      <td>3454.0</td>\n",
              "      <td>0.809356</td>\n",
              "      <td>0.655057</td>\n",
              "      <td>0.093288</td>\n",
              "      <td>12.239133</td>\n",
              "      <td>0.033486</td>\n",
              "      <td>...</td>\n",
              "      <td>0.016738</td>\n",
              "      <td>2.750000e-08</td>\n",
              "      <td>0.026064</td>\n",
              "      <td>0.017757</td>\n",
              "      <td>0.606336</td>\n",
              "      <td>4.088475</td>\n",
              "      <td>1.820000e-08</td>\n",
              "      <td>20.0</td>\n",
              "      <td>10.766907</td>\n",
              "      <td>5.366652</td>\n",
              "    </tr>\n",
              "    <tr>\n",
              "      <th>2016-07-29</th>\n",
              "      <td>85332.0</td>\n",
              "      <td>0.045014</td>\n",
              "      <td>2.114073e+05</td>\n",
              "      <td>36.680000</td>\n",
              "      <td>6030.0</td>\n",
              "      <td>0.964580</td>\n",
              "      <td>0.930414</td>\n",
              "      <td>0.049906</td>\n",
              "      <td>11.547285</td>\n",
              "      <td>0.025500</td>\n",
              "      <td>...</td>\n",
              "      <td>0.024221</td>\n",
              "      <td>3.190000e-08</td>\n",
              "      <td>0.023961</td>\n",
              "      <td>0.014717</td>\n",
              "      <td>0.594446</td>\n",
              "      <td>1.862506</td>\n",
              "      <td>4.310000e-08</td>\n",
              "      <td>60.0</td>\n",
              "      <td>0.746800</td>\n",
              "      <td>-0.076805</td>\n",
              "    </tr>\n",
              "    <tr>\n",
              "      <th>2016-07-29</th>\n",
              "      <td>85320.0</td>\n",
              "      <td>-0.127869</td>\n",
              "      <td>2.131950e+04</td>\n",
              "      <td>7.980000</td>\n",
              "      <td>2330.0</td>\n",
              "      <td>0.187350</td>\n",
              "      <td>0.035100</td>\n",
              "      <td>1.538280</td>\n",
              "      <td>5.463228</td>\n",
              "      <td>0.155574</td>\n",
              "      <td>...</td>\n",
              "      <td>0.154107</td>\n",
              "      <td>7.700000e-06</td>\n",
              "      <td>0.485981</td>\n",
              "      <td>0.145591</td>\n",
              "      <td>2.403231</td>\n",
              "      <td>112.700337</td>\n",
              "      <td>1.300000e-10</td>\n",
              "      <td>73.0</td>\n",
              "      <td>0.579862</td>\n",
              "      <td>0.120502</td>\n",
              "    </tr>\n",
              "    <tr>\n",
              "      <th>2016-07-29</th>\n",
              "      <td>85319.0</td>\n",
              "      <td>0.001105</td>\n",
              "      <td>3.801976e+06</td>\n",
              "      <td>45.310001</td>\n",
              "      <td>84003.0</td>\n",
              "      <td>0.869740</td>\n",
              "      <td>0.756448</td>\n",
              "      <td>0.047188</td>\n",
              "      <td>14.361088</td>\n",
              "      <td>0.028935</td>\n",
              "      <td>...</td>\n",
              "      <td>0.015899</td>\n",
              "      <td>9.280000e-10</td>\n",
              "      <td>0.034278</td>\n",
              "      <td>0.015411</td>\n",
              "      <td>0.416535</td>\n",
              "      <td>1.405638</td>\n",
              "      <td>3.290000e-08</td>\n",
              "      <td>73.0</td>\n",
              "      <td>0.304966</td>\n",
              "      <td>-0.154394</td>\n",
              "    </tr>\n",
              "    <tr>\n",
              "      <th>2016-07-29</th>\n",
              "      <td>85299.0</td>\n",
              "      <td>0.098277</td>\n",
              "      <td>1.170267e+06</td>\n",
              "      <td>51.349998</td>\n",
              "      <td>25058.0</td>\n",
              "      <td>0.854367</td>\n",
              "      <td>0.729943</td>\n",
              "      <td>-0.067012</td>\n",
              "      <td>13.384019</td>\n",
              "      <td>0.023279</td>\n",
              "      <td>...</td>\n",
              "      <td>0.019526</td>\n",
              "      <td>5.740000e-09</td>\n",
              "      <td>0.027153</td>\n",
              "      <td>0.017771</td>\n",
              "      <td>0.475575</td>\n",
              "      <td>1.755443</td>\n",
              "      <td>2.920000e-08</td>\n",
              "      <td>60.0</td>\n",
              "      <td>0.509236</td>\n",
              "      <td>-0.314368</td>\n",
              "    </tr>\n",
              "    <tr>\n",
              "      <th>2016-07-29</th>\n",
              "      <td>85271.0</td>\n",
              "      <td>0.040430</td>\n",
              "      <td>3.367041e+06</td>\n",
              "      <td>16.469999</td>\n",
              "      <td>215452.0</td>\n",
              "      <td>0.893780</td>\n",
              "      <td>0.798843</td>\n",
              "      <td>0.130221</td>\n",
              "      <td>16.248879</td>\n",
              "      <td>0.025935</td>\n",
              "      <td>...</td>\n",
              "      <td>0.009144</td>\n",
              "      <td>1.490000e-10</td>\n",
              "      <td>0.017341</td>\n",
              "      <td>0.006536</td>\n",
              "      <td>0.408870</td>\n",
              "      <td>4.873648</td>\n",
              "      <td>7.710000e-09</td>\n",
              "      <td>67.0</td>\n",
              "      <td>1.460924</td>\n",
              "      <td>0.893274</td>\n",
              "    </tr>\n",
              "    <tr>\n",
              "      <th>2016-07-29</th>\n",
              "      <td>85285.0</td>\n",
              "      <td>-0.060423</td>\n",
              "      <td>9.622832e+04</td>\n",
              "      <td>3.110000</td>\n",
              "      <td>29072.0</td>\n",
              "      <td>1.857885</td>\n",
              "      <td>3.451737</td>\n",
              "      <td>-0.469316</td>\n",
              "      <td>11.163191</td>\n",
              "      <td>0.106079</td>\n",
              "      <td>...</td>\n",
              "      <td>0.047559</td>\n",
              "      <td>1.090000e-07</td>\n",
              "      <td>0.042623</td>\n",
              "      <td>0.022781</td>\n",
              "      <td>0.504013</td>\n",
              "      <td>1.141594</td>\n",
              "      <td>4.120000e-08</td>\n",
              "      <td>38.0</td>\n",
              "      <td>0.147467</td>\n",
              "      <td>-0.857866</td>\n",
              "    </tr>\n",
              "  </tbody>\n",
              "</table>\n",
              "<p>10 rows × 100 columns</p>\n",
              "</div>\n",
              "      <button class=\"colab-df-convert\" onclick=\"convertToInteractive('df-c8c6015c-8c2f-4fc7-bed3-df88a80503d6')\"\n",
              "              title=\"Convert this dataframe to an interactive table.\"\n",
              "              style=\"display:none;\">\n",
              "        \n",
              "  <svg xmlns=\"http://www.w3.org/2000/svg\" height=\"24px\"viewBox=\"0 0 24 24\"\n",
              "       width=\"24px\">\n",
              "    <path d=\"M0 0h24v24H0V0z\" fill=\"none\"/>\n",
              "    <path d=\"M18.56 5.44l.94 2.06.94-2.06 2.06-.94-2.06-.94-.94-2.06-.94 2.06-2.06.94zm-11 1L8.5 8.5l.94-2.06 2.06-.94-2.06-.94L8.5 2.5l-.94 2.06-2.06.94zm10 10l.94 2.06.94-2.06 2.06-.94-2.06-.94-.94-2.06-.94 2.06-2.06.94z\"/><path d=\"M17.41 7.96l-1.37-1.37c-.4-.4-.92-.59-1.43-.59-.52 0-1.04.2-1.43.59L10.3 9.45l-7.72 7.72c-.78.78-.78 2.05 0 2.83L4 21.41c.39.39.9.59 1.41.59.51 0 1.02-.2 1.41-.59l7.78-7.78 2.81-2.81c.8-.78.8-2.07 0-2.86zM5.41 20L4 18.59l7.72-7.72 1.47 1.35L5.41 20z\"/>\n",
              "  </svg>\n",
              "      </button>\n",
              "      \n",
              "  <style>\n",
              "    .colab-df-container {\n",
              "      display:flex;\n",
              "      flex-wrap:wrap;\n",
              "      gap: 12px;\n",
              "    }\n",
              "\n",
              "    .colab-df-convert {\n",
              "      background-color: #E8F0FE;\n",
              "      border: none;\n",
              "      border-radius: 50%;\n",
              "      cursor: pointer;\n",
              "      display: none;\n",
              "      fill: #1967D2;\n",
              "      height: 32px;\n",
              "      padding: 0 0 0 0;\n",
              "      width: 32px;\n",
              "    }\n",
              "\n",
              "    .colab-df-convert:hover {\n",
              "      background-color: #E2EBFA;\n",
              "      box-shadow: 0px 1px 2px rgba(60, 64, 67, 0.3), 0px 1px 3px 1px rgba(60, 64, 67, 0.15);\n",
              "      fill: #174EA6;\n",
              "    }\n",
              "\n",
              "    [theme=dark] .colab-df-convert {\n",
              "      background-color: #3B4455;\n",
              "      fill: #D2E3FC;\n",
              "    }\n",
              "\n",
              "    [theme=dark] .colab-df-convert:hover {\n",
              "      background-color: #434B5C;\n",
              "      box-shadow: 0px 1px 3px 1px rgba(0, 0, 0, 0.15);\n",
              "      filter: drop-shadow(0px 1px 2px rgba(0, 0, 0, 0.3));\n",
              "      fill: #FFFFFF;\n",
              "    }\n",
              "  </style>\n",
              "\n",
              "      <script>\n",
              "        const buttonEl =\n",
              "          document.querySelector('#df-c8c6015c-8c2f-4fc7-bed3-df88a80503d6 button.colab-df-convert');\n",
              "        buttonEl.style.display =\n",
              "          google.colab.kernel.accessAllowed ? 'block' : 'none';\n",
              "\n",
              "        async function convertToInteractive(key) {\n",
              "          const element = document.querySelector('#df-c8c6015c-8c2f-4fc7-bed3-df88a80503d6');\n",
              "          const dataTable =\n",
              "            await google.colab.kernel.invokeFunction('convertToInteractive',\n",
              "                                                     [key], {});\n",
              "          if (!dataTable) return;\n",
              "\n",
              "          const docLinkHtml = 'Like what you see? Visit the ' +\n",
              "            '<a target=\"_blank\" href=https://colab.research.google.com/notebooks/data_table.ipynb>data table notebook</a>'\n",
              "            + ' to learn more about interactive tables.';\n",
              "          element.innerHTML = '';\n",
              "          dataTable['output_type'] = 'display_data';\n",
              "          await google.colab.output.renderOutput(dataTable, element);\n",
              "          const docLink = document.createElement('div');\n",
              "          docLink.innerHTML = docLinkHtml;\n",
              "          element.appendChild(docLink);\n",
              "        }\n",
              "      </script>\n",
              "    </div>\n",
              "  </div>\n",
              "  "
            ]
          },
          "metadata": {},
          "execution_count": 16
        }
      ],
      "source": [
        "from google.colab import drive\n",
        "\n",
        "# Mounting the Google drive to read the data\n",
        "drive.mount('/drive')\n",
        "\n",
        "# Data Importing\n",
        "dd = pd.read_csv(('/drive/My Drive/Colab Notebooks/Data/equity_2000_2020.csv'), parse_dates=['DATE'])\n",
        "\n",
        "dd.sort_values('DATE', inplace=True)\n",
        "dd.set_index('DATE', inplace=True)\n",
        "\n",
        "# Removing useless columns in the dataset\n",
        "dd.drop(columns=['Unnamed: 0'], inplace=True)\n",
        "\n",
        "# Filter data from 2016-2020\n",
        "df = dd['2016-07-29':'2020-01-31']\n",
        "\n",
        "df.head(10)"
      ]
    },
    {
      "cell_type": "code",
      "execution_count": null,
      "metadata": {
        "colab": {
          "base_uri": "https://localhost:8080/"
        },
        "id": "_IHDAgkFyLeQ",
        "outputId": "7cf7525f-eba8-4c98-bfc7-682c80e46a9f"
      },
      "outputs": [
        {
          "output_type": "stream",
          "name": "stdout",
          "text": [
            "<class 'pandas.core.frame.DataFrame'>\n",
            "DatetimeIndex: 246825 entries, 2016-07-29 to 2020-01-31\n",
            "Data columns (total 100 columns):\n",
            " #   Column           Non-Null Count   Dtype  \n",
            "---  ------           --------------   -----  \n",
            " 0   permno           246825 non-null  float64\n",
            " 1   RET              246825 non-null  float64\n",
            " 2   mvel1            246825 non-null  float64\n",
            " 3   prc              246825 non-null  float64\n",
            " 4   SHROUT           246825 non-null  float64\n",
            " 5   beta             246825 non-null  float64\n",
            " 6   betasq           246825 non-null  float64\n",
            " 7   chmom            246825 non-null  float64\n",
            " 8   dolvol           246825 non-null  float64\n",
            " 9   idiovol          246825 non-null  float64\n",
            " 10  indmom           246825 non-null  float64\n",
            " 11  mom1m            246825 non-null  float64\n",
            " 12  mom6m            246825 non-null  float64\n",
            " 13  mom12m           246825 non-null  float64\n",
            " 14  mom36m           246825 non-null  float64\n",
            " 15  mve0             246825 non-null  float64\n",
            " 16  pricedelay       246825 non-null  float64\n",
            " 17  turn             246825 non-null  float64\n",
            " 18  absacc           246825 non-null  float64\n",
            " 19  acc              246825 non-null  float64\n",
            " 20  age              246825 non-null  float64\n",
            " 21  agr              246825 non-null  float64\n",
            " 22  cashdebt         246825 non-null  float64\n",
            " 23  cashpr           246825 non-null  float64\n",
            " 24  cfp              246825 non-null  float64\n",
            " 25  cfp_ia           246825 non-null  float64\n",
            " 26  chatoia          246825 non-null  float64\n",
            " 27  chcsho           246825 non-null  float64\n",
            " 28  chempia          246825 non-null  float64\n",
            " 29  chinv            246825 non-null  float64\n",
            " 30  chpmia           246825 non-null  float64\n",
            " 31  convind          246825 non-null  float64\n",
            " 32  currat           246825 non-null  float64\n",
            " 33  depr             246825 non-null  float64\n",
            " 34  divi             246825 non-null  float64\n",
            " 35  divo             246825 non-null  float64\n",
            " 36  dy               246825 non-null  float64\n",
            " 37  egr              246825 non-null  float64\n",
            " 38  ep               246825 non-null  float64\n",
            " 39  gma              246825 non-null  float64\n",
            " 40  grcapx           246825 non-null  float64\n",
            " 41  grltnoa          246825 non-null  float64\n",
            " 42  herf             246825 non-null  float64\n",
            " 43  hire             246825 non-null  float64\n",
            " 44  invest           246825 non-null  float64\n",
            " 45  lev              246825 non-null  float64\n",
            " 46  lgr              246825 non-null  float64\n",
            " 47  mve_ia           246825 non-null  float64\n",
            " 48  operprof         246825 non-null  float64\n",
            " 49  orgcap           246825 non-null  float64\n",
            " 50  pchcapx_ia       246825 non-null  float64\n",
            " 51  pchcurrat        246825 non-null  float64\n",
            " 52  pchdepr          246825 non-null  float64\n",
            " 53  pchgm_pchsale    246825 non-null  float64\n",
            " 54  pchquick         246825 non-null  float64\n",
            " 55  pchsale_pchinvt  246825 non-null  float64\n",
            " 56  pchsale_pchrect  246825 non-null  float64\n",
            " 57  pchsale_pchxsga  246825 non-null  float64\n",
            " 58  pchsaleinv       246825 non-null  float64\n",
            " 59  pctacc           246825 non-null  float64\n",
            " 60  ps               246825 non-null  float64\n",
            " 61  quick            246825 non-null  float64\n",
            " 62  rd               246825 non-null  float64\n",
            " 63  rd_mve           246825 non-null  float64\n",
            " 64  rd_sale          246825 non-null  float64\n",
            " 65  realestate       246825 non-null  float64\n",
            " 66  roic             246825 non-null  float64\n",
            " 67  salecash         246825 non-null  float64\n",
            " 68  saleinv          246825 non-null  float64\n",
            " 69  salerec          246825 non-null  float64\n",
            " 70  secured          246825 non-null  float64\n",
            " 71  securedind       246825 non-null  float64\n",
            " 72  sgr              246825 non-null  float64\n",
            " 73  sin              246825 non-null  float64\n",
            " 74  sp               246825 non-null  float64\n",
            " 75  tang             246825 non-null  float64\n",
            " 76  tb               246825 non-null  float64\n",
            " 77  aeavol           246825 non-null  float64\n",
            " 78  cash             246825 non-null  float64\n",
            " 79  chtx             246825 non-null  float64\n",
            " 80  cinvest          246825 non-null  float64\n",
            " 81  ear              246825 non-null  float64\n",
            " 82  nincr            246825 non-null  float64\n",
            " 83  roaq             246825 non-null  float64\n",
            " 84  roavol           246825 non-null  float64\n",
            " 85  roeq             246825 non-null  float64\n",
            " 86  rsup             246825 non-null  float64\n",
            " 87  stdacc           246825 non-null  float64\n",
            " 88  stdcf            246825 non-null  float64\n",
            " 89  ms               246825 non-null  float64\n",
            " 90  baspread         246825 non-null  float64\n",
            " 91  ill              246825 non-null  float64\n",
            " 92  maxret           246825 non-null  float64\n",
            " 93  retvol           246825 non-null  float64\n",
            " 94  std_dolvol       246825 non-null  float64\n",
            " 95  std_turn         246825 non-null  float64\n",
            " 96  zerotrade        246825 non-null  float64\n",
            " 97  sic2             246825 non-null  float64\n",
            " 98  bm               246825 non-null  float64\n",
            " 99  bm_ia            246825 non-null  float64\n",
            "dtypes: float64(100)\n",
            "memory usage: 190.2 MB\n",
            "None\n"
          ]
        }
      ],
      "source": [
        "# Print information regarding dataset\n",
        "print(df.info())"
      ]
    },
    {
      "cell_type": "markdown",
      "metadata": {
        "id": "7QLQCm17wqut"
      },
      "source": [
        "# SPLITTING THE DATA INTO TRAIN & TEST"
      ]
    },
    {
      "cell_type": "code",
      "execution_count": null,
      "metadata": {
        "colab": {
          "base_uri": "https://localhost:8080/"
        },
        "id": "KuWsRkdPQARk",
        "outputId": "9f3947db-895e-45ef-a9c5-07ee5ca39059"
      },
      "outputs": [
        {
          "output_type": "stream",
          "name": "stdout",
          "text": [
            "1281 days in the dataset\n",
            "7063 stocks in total in the datasets\n"
          ]
        },
        {
          "output_type": "stream",
          "name": "stderr",
          "text": [
            "\n",
            "A value is trying to be set on a copy of a slice from a DataFrame.\n",
            "Try using .loc[row_indexer,col_indexer] = value instead\n",
            "\n",
            "See the caveats in the documentation: https://pandas.pydata.org/pandas-docs/stable/user_guide/indexing.html#returning-a-view-versus-a-copy\n"
          ]
        }
      ],
      "source": [
        "# Total number of days in the dataset\n",
        "Time_diff = df.index[-1] - df.index[0]\n",
        "print(Time_diff.days, 'days in the dataset')\n",
        "print(np.count_nonzero(df['permno'].unique()), 'stocks in total in the datasets')\n",
        "\n",
        "# Ratio of data for test\n",
        "test_ratio = 0.25\n",
        "\n",
        "# Index splitting train and test data\n",
        "test_index = df.index[0] + (Time_diff*(1-test_ratio))\n",
        "\n",
        "# Creating a new column of test flag\n",
        "df['test_flag'] = False                                  #all false for training\n",
        "df.loc[ test_index : df.index[-1], 'test_flag' ] = True  #some data for testing based on test_ratio"
      ]
    },
    {
      "cell_type": "code",
      "execution_count": null,
      "metadata": {
        "id": "xVVLFAUNybvO"
      },
      "outputs": [],
      "source": [
        "# Visual Representation of Train and Test Splits - Example\n",
        "def plot_stock(stockID):\n",
        "    \n",
        "    plt.figure(figsize=(9,6))\n",
        "    \n",
        "    df[(df['permno']==stockID)&(df['test_flag']==False)]['RET'].plot()\n",
        "    df[(df['permno']==stockID)&(df['test_flag']==True)]['RET'].plot()\n",
        "    \n",
        "    plt.title('Example of Training/Testing Split')\n",
        "    plt.legend(['Training','Testing'])\n",
        "    plt.show()"
      ]
    },
    {
      "cell_type": "code",
      "execution_count": null,
      "metadata": {
        "colab": {
          "base_uri": "https://localhost:8080/",
          "height": 536
        },
        "id": "ZubE9k_sye7-",
        "outputId": "b352178c-6c9e-45a6-a5a9-6c2a1ebdd1c8"
      },
      "outputs": [
        {
          "output_type": "display_data",
          "data": {
            "text/plain": [
              "<Figure size 900x600 with 1 Axes>"
            ],
            "image/png": "[encoded data removed]"
          },
          "metadata": {}
        }
      ],
      "source": [
        "plot_stock(85314)"
      ]
    },
    {
      "cell_type": "markdown",
      "metadata": {
        "id": "mO8FVjQLM2f2"
      },
      "source": [
        "# AUTOENCODER + LSTM (MODEL 1)"
      ]
    },
    {
      "cell_type": "code",
      "execution_count": null,
      "metadata": {
        "id": "us0vL679rdLc"
      },
      "outputs": [],
      "source": [
        "# Creating a generator for LSTM Windows and Labels\n",
        "\n",
        "sequence_length = 8\n",
        "\n",
        "def set_seed(seed):\n",
        "    tf.random.set_seed(seed)\n",
        "    os.environ['PYTHONHASHSEED'] = str(seed)\n",
        "    np.random.seed(seed)\n",
        "    random.seed(seed)\n",
        "\n",
        "# LSTM input features\n",
        "def gen_sequence(id_df, seq_length, seq_cols):\n",
        "\n",
        "    data_matrix = id_df[seq_cols].values\n",
        "    num_elements = data_matrix.shape[0]\n",
        "\n",
        "    for start, stop in zip(range(0, num_elements-seq_length), range(seq_length, num_elements)):\n",
        "        yield data_matrix[start:stop, :]\n",
        "\n",
        "\n",
        "# LSTM output features\n",
        "def gen_labels(id_df, seq_length, label):\n",
        "\n",
        "    data_matrix = id_df[label].values\n",
        "    num_elements = data_matrix.shape[0]\n",
        "\n",
        "    return data_matrix[seq_length:num_elements, :]"
      ]
    },
    {
      "cell_type": "code",
      "execution_count": null,
      "metadata": {
        "colab": {
          "base_uri": "https://localhost:8080/"
        },
        "id": "foShypprrfhA",
        "outputId": "6bb3d22a-0587-4981-c2e8-f84d535f91e1"
      },
      "outputs": [
        {
          "output_type": "stream",
          "name": "stdout",
          "text": [
            "shape of the intput X and output y\n",
            "input training data dimension: \n",
            "(131436, 8, 101)\n",
            "\n",
            "output training data dimension: \n",
            "(131436, 1)\n",
            "\n",
            "input testing data dimension: \n",
            "(16557, 8, 101)\n",
            "\n",
            "output testing data dimension: \n",
            "(16557, 1)\n",
            "input  0 : \n",
            " [[10001.0 0.026466 73478.87759]\n",
            " [10001.0 0.03662 74635.199]\n",
            " [10001.0 0.04212 77397.7614]\n",
            " [10001.0 0.619948 80657.7208]\n",
            " [10001.0 0.012146 129922.004]\n",
            " [10001.0 0.01 131500.0]\n",
            " [10001.0 0.007968 132026.002]\n",
            " [10001.0 0.0 133077.996]]\n",
            "==> output  0 : \n",
            " [0.0099] \n",
            "\n",
            "input  1 : \n",
            " [[10001.0 0.03662 74635.199]\n",
            " [10001.0 0.04212 77397.7614]\n",
            " [10001.0 0.619948 80657.7208]\n",
            " [10001.0 0.012146 129922.004]\n",
            " [10001.0 0.01 131500.0]\n",
            " [10001.0 0.007968 132026.002]\n",
            " [10001.0 0.0 133077.996]\n",
            " [10001.0 0.009881 133077.996]]\n",
            "==> output  1 : \n",
            " [-0.0157] \n",
            "\n",
            "input  2 : \n",
            " [[10001.0 0.04212 77397.7614]\n",
            " [10001.0 0.619948 80657.7208]\n",
            " [10001.0 0.012146 129922.004]\n",
            " [10001.0 0.01 131500.0]\n",
            " [10001.0 0.007968 132026.002]\n",
            " [10001.0 0.0 133077.996]\n",
            " [10001.0 0.009881 133077.996]\n",
            " [10001.0 -0.015748 133603.998]]\n",
            "==> output  2 : \n",
            " [0.016] \n",
            "\n"
          ]
        }
      ],
      "source": [
        "# Train/Test data\n",
        "\n",
        "col = df.columns\n",
        "\n",
        "X_train, X_test = [], []\n",
        "y_train, y_test = [], []\n",
        "\n",
        "for (stock,is_test), _df in df.groupby(['permno', 'test_flag']):\n",
        "    \n",
        "    for seq in gen_sequence(_df, sequence_length, col):        \n",
        "        if is_test:\n",
        "            X_test.append(seq)\n",
        "        else:\n",
        "            X_train.append(seq)\n",
        "                \n",
        "    for seq in gen_labels(_df, sequence_length, ['RET']):        \n",
        "        if is_test:\n",
        "            y_test.append(seq)\n",
        "        else:\n",
        "            y_train.append(seq)\n",
        "\n",
        "X_train = np.asarray(X_train)\n",
        "y_train = np.asarray(y_train)\n",
        "X_test = np.asarray(X_test)\n",
        "y_test = np.asarray(y_test)\n",
        "\n",
        "print('shape of the intput X and output y\\ninput training data dimension: ')\n",
        "print(X_train.shape)\n",
        "print('\\noutput training data dimension: ')\n",
        "print(y_train.shape)\n",
        "\n",
        "print('\\ninput testing data dimension: ')\n",
        "print(X_test.shape)\n",
        "print('\\noutput testing data dimension: ')\n",
        "print(y_test.shape)\n",
        "\n",
        "# print several examples, only print 3 out of 101 features\n",
        "for i in range(3):\n",
        "    print('input ', i, ': \\n',X_train[i,:,0:3])\n",
        "    print('==> output ', i, ': \\n', y_train[i], '\\n')"
      ]
    },
    {
      "cell_type": "code",
      "execution_count": null,
      "metadata": {
        "colab": {
          "base_uri": "https://localhost:8080/"
        },
        "id": "62M-HxZ8rj70",
        "outputId": "03555293-22e7-4a0b-9f9b-53a98e4e4171"
      },
      "outputs": [
        {
          "output_type": "stream",
          "name": "stdout",
          "text": [
            "(131436, 8, 101)\n"
          ]
        }
      ],
      "source": [
        "scaler = StandardScaler()\n",
        "X_train = scaler.fit_transform(X_train.reshape(-1,X_train.shape[-1])).reshape(X_train.shape)\n",
        "X_test = scaler.transform(X_test.reshape(-1,X_test.shape[-1])).reshape(X_test.shape)\n",
        "\n",
        "print(X_train.shape)"
      ]
    },
    {
      "cell_type": "markdown",
      "metadata": {
        "id": "XFnhJJdZw1BE"
      },
      "source": [
        "# TRAINING THE MODEL"
      ]
    },
    {
      "cell_type": "code",
      "execution_count": null,
      "metadata": {
        "colab": {
          "base_uri": "https://localhost:8080/"
        },
        "id": "IzQ5ucKirnxT",
        "outputId": "95f716e4-c13f-4e8a-aaec-5141305f1cdc"
      },
      "outputs": [
        {
          "output_type": "stream",
          "name": "stderr",
          "text": [
            "WARNING:tensorflow:Layer lstm_6 will not use cuDNN kernels since it doesn't meet the criteria. It will use a generic GPU kernel as fallback when running on GPU.\n",
            "WARNING:tensorflow:Layer lstm_7 will not use cuDNN kernels since it doesn't meet the criteria. It will use a generic GPU kernel as fallback when running on GPU.\n"
          ]
        },
        {
          "output_type": "stream",
          "name": "stdout",
          "text": [
            "Epoch 1/200\n",
            "514/514 [==============================] - 23s 40ms/step - loss: 1.0993 - val_loss: 0.9784\n",
            "Epoch 2/200\n",
            "514/514 [==============================] - 18s 35ms/step - loss: 0.9782 - val_loss: 0.9754\n",
            "Epoch 3/200\n",
            "514/514 [==============================] - 22s 43ms/step - loss: 0.9757 - val_loss: 0.9744\n",
            "Epoch 4/200\n",
            "514/514 [==============================] - 18s 35ms/step - loss: 0.9750 - val_loss: 0.9740\n",
            "Epoch 5/200\n",
            "514/514 [==============================] - 19s 36ms/step - loss: 0.9746 - val_loss: 0.9739\n",
            "Epoch 6/200\n",
            "514/514 [==============================] - 18s 34ms/step - loss: 0.9743 - val_loss: 0.9739\n",
            "Epoch 7/200\n",
            "514/514 [==============================] - 18s 35ms/step - loss: 0.9742 - val_loss: 0.9742\n",
            "Epoch 8/200\n",
            "514/514 [==============================] - 18s 35ms/step - loss: 0.9741 - val_loss: 0.9740\n",
            "Epoch 9/200\n",
            "514/514 [==============================] - 18s 34ms/step - loss: 0.9740 - val_loss: 0.9738\n",
            "Epoch 10/200\n",
            "514/514 [==============================] - 18s 35ms/step - loss: 0.9740 - val_loss: 0.9737\n",
            "Epoch 11/200\n",
            "514/514 [==============================] - 18s 35ms/step - loss: 0.9739 - val_loss: 0.9737\n",
            "Epoch 12/200\n",
            "514/514 [==============================] - 18s 34ms/step - loss: 0.9739 - val_loss: 0.9740\n",
            "Epoch 13/200\n",
            "514/514 [==============================] - 18s 34ms/step - loss: 0.9738 - val_loss: 0.9735\n",
            "Epoch 14/200\n",
            "514/514 [==============================] - 18s 35ms/step - loss: 0.9738 - val_loss: 0.9736\n",
            "Epoch 15/200\n",
            "514/514 [==============================] - 18s 35ms/step - loss: 0.9738 - val_loss: 0.9735\n",
            "Epoch 16/200\n",
            "514/514 [==============================] - 17s 34ms/step - loss: 0.9738 - val_loss: 0.9738\n",
            "Epoch 17/200\n",
            "514/514 [==============================] - 18s 34ms/step - loss: 0.9738 - val_loss: 0.9737\n",
            "Epoch 18/200\n",
            "514/514 [==============================] - 18s 35ms/step - loss: 0.9737 - val_loss: 0.9740\n",
            "Epoch 19/200\n",
            "513/514 [============================>.] - ETA: 0s - loss: 0.9737Restoring model weights from the end of the best epoch: 4.\n",
            "514/514 [==============================] - 18s 35ms/step - loss: 0.9737 - val_loss: 0.9736\n",
            "Epoch 19: early stopping\n"
          ]
        },
        {
          "output_type": "execute_result",
          "data": {
            "text/plain": [
              "<keras.callbacks.History at 0x7efcfed0dd60>"
            ]
          },
          "metadata": {},
          "execution_count": 39
        }
      ],
      "source": [
        "# Construct model\n",
        "set_seed(50)\n",
        "\n",
        "# DEFINE LSTM AUTOENCODER\n",
        "# Input shape is (4, 101), using 4 rows to forecast one output, each row has 101 features\n",
        "inputs_ae = Input(shape=(X_train.shape[1:]))\n",
        "\n",
        "# Encoding LSTM layer, receive inputs_ae from input layer\n",
        "encoded_ae = LSTM(256, activation='relu', return_sequences=True)(inputs_ae)\n",
        "encoded_ae = Dropout(0.2)(encoded_ae) # add dropout for regularization\n",
        "encoded_ae = BatchNormalization()(encoded_ae)\n",
        "\n",
        "# Decoding LSTM layer, receive encoded_ae from encoding LSTM layer\n",
        "decoded_ae = LSTM(128, activation='relu', return_sequences=True)(encoded_ae)\n",
        "decoded_ae = Dropout(0.2)(decoded_ae) # add dropout for regularization\n",
        "decoded_ae = BatchNormalization()(decoded_ae)\n",
        "\n",
        "# Output layer\n",
        "out_ae = TimeDistributed(Dense(1))(decoded_ae)\n",
        "\n",
        "# Define the autoencoder model\n",
        "sequence_autoencoder = Model(inputs_ae, out_ae)\n",
        "sequence_autoencoder.compile(optimizer=Adam(learning_rate=0.001), loss='mse')\n",
        "\n",
        "# TRAIN AUTOENCODER\n",
        "es = EarlyStopping(patience=15, verbose=2, min_delta=0.001, \n",
        "                       monitor='val_loss', mode='auto', restore_best_weights=True)\n",
        "\n",
        "# Train autoencoder with output reconstructing the input\n",
        "sequence_autoencoder.fit(X_train, X_train, validation_data=(X_train, X_train),\n",
        "                             batch_size=256, epochs=200, verbose=1, callbacks=[es])\n"
      ]
    },
    {
      "cell_type": "code",
      "execution_count": null,
      "metadata": {
        "colab": {
          "base_uri": "https://localhost:8080/"
        },
        "id": "quorsAyEr0yy",
        "outputId": "f398b051-d386-4183-8211-66afa83a69d6"
      },
      "outputs": [
        {
          "output_type": "stream",
          "name": "stdout",
          "text": [
            "4108/4108 [==============================] - 10s 3ms/step\n",
            "518/518 [==============================] - 1s 3ms/step\n",
            "encoded features:  (131436, 8, 256)\n",
            "4108/4108 [==============================] - 10s 2ms/step\n",
            "518/518 [==============================] - 1s 3ms/step\n"
          ]
        },
        {
          "output_type": "execute_result",
          "data": {
            "text/plain": [
              "((131436, 8, 357), (16557, 8, 357))"
            ]
          },
          "metadata": {},
          "execution_count": 25
        }
      ],
      "source": [
        "# ENCODE PRICE AND CONCATENATE REGRESSORS\n",
        "encoder = Model(inputs_ae, encoded_ae)\n",
        "encoded_feature_train = encoder.predict(X_train)\n",
        "encoded_feature_test = encoder.predict(X_test)\n",
        "\n",
        "# Dimension of encoded features\n",
        "print('encoded features: ', encoded_feature_train.shape)\n",
        "\n",
        "X_train_ = np.concatenate([X_train, encoder.predict(X_train)], axis=-1)\n",
        "X_test_ = np.concatenate([X_test, encoder.predict(X_test)], axis=-1)\n",
        "\n",
        "X_train_.shape, X_test_.shape"
      ]
    },
    {
      "cell_type": "markdown",
      "metadata": {
        "id": "3WOs6YVlytOA"
      },
      "source": [
        "# FORECASTER"
      ]
    },
    {
      "cell_type": "code",
      "execution_count": null,
      "metadata": {
        "colab": {
          "base_uri": "https://localhost:8080/"
        },
        "id": "kXvzy8D6uWkJ",
        "outputId": "3404bf26-3d67-442a-b913-7d495929f752"
      },
      "outputs": [
        {
          "output_type": "stream",
          "name": "stdout",
          "text": [
            "Epoch 1/200\n",
            "514/514 [==============================] - 14s 18ms/step - loss: 0.0275 - val_loss: 0.0254\n",
            "Epoch 2/200\n",
            "514/514 [==============================] - 5s 11ms/step - loss: 0.0255 - val_loss: 0.0252\n",
            "Epoch 3/200\n",
            "514/514 [==============================] - 6s 11ms/step - loss: 0.0253 - val_loss: 0.0251\n",
            "Epoch 4/200\n",
            "514/514 [==============================] - 5s 11ms/step - loss: 0.0252 - val_loss: 0.0251\n",
            "Epoch 5/200\n",
            "514/514 [==============================] - 6s 11ms/step - loss: 0.0250 - val_loss: 0.0249\n",
            "Epoch 6/200\n",
            "514/514 [==============================] - 5s 11ms/step - loss: 0.0250 - val_loss: 0.0248\n",
            "Epoch 7/200\n",
            "514/514 [==============================] - 5s 11ms/step - loss: 0.0248 - val_loss: 0.0246\n",
            "Epoch 8/200\n",
            "514/514 [==============================] - 6s 11ms/step - loss: 0.0248 - val_loss: 0.0245\n",
            "Epoch 9/200\n",
            "514/514 [==============================] - 5s 10ms/step - loss: 0.0247 - val_loss: 0.0246\n",
            "Epoch 10/200\n",
            "514/514 [==============================] - 6s 11ms/step - loss: 0.0246 - val_loss: 0.0244\n",
            "Epoch 11/200\n",
            "514/514 [==============================] - 5s 10ms/step - loss: 0.0245 - val_loss: 0.0242\n",
            "Epoch 12/200\n",
            "514/514 [==============================] - 6s 12ms/step - loss: 0.0244 - val_loss: 0.0242\n",
            "Epoch 13/200\n",
            "514/514 [==============================] - 6s 11ms/step - loss: 0.0243 - val_loss: 0.0238\n",
            "Epoch 14/200\n",
            "514/514 [==============================] - 5s 11ms/step - loss: 0.0242 - val_loss: 0.0237\n",
            "Epoch 15/200\n",
            "514/514 [==============================] - 6s 11ms/step - loss: 0.0240 - val_loss: 0.0235\n",
            "Epoch 16/200\n",
            "514/514 [==============================] - 5s 11ms/step - loss: 0.0240 - val_loss: 0.0235\n",
            "Epoch 17/200\n",
            "514/514 [==============================] - 6s 11ms/step - loss: 0.0237 - val_loss: 0.0233\n",
            "Epoch 18/200\n",
            "514/514 [==============================] - 6s 11ms/step - loss: 0.0237 - val_loss: 0.0232\n",
            "Epoch 19/200\n",
            "514/514 [==============================] - 5s 11ms/step - loss: 0.0234 - val_loss: 0.0228\n",
            "Epoch 20/200\n",
            "514/514 [==============================] - 6s 11ms/step - loss: 0.0231 - val_loss: 0.0227\n",
            "Epoch 21/200\n",
            "514/514 [==============================] - 5s 11ms/step - loss: 0.0230 - val_loss: 0.0227\n",
            "Epoch 22/200\n",
            "514/514 [==============================] - 6s 11ms/step - loss: 0.0235 - val_loss: 0.0223\n",
            "Epoch 23/200\n",
            "514/514 [==============================] - 6s 11ms/step - loss: 0.0231 - val_loss: 0.0216\n",
            "Epoch 24/200\n",
            "514/514 [==============================] - 5s 10ms/step - loss: 0.0228 - val_loss: 0.0226\n",
            "Epoch 25/200\n",
            "514/514 [==============================] - 6s 11ms/step - loss: 0.0229 - val_loss: 0.0223\n",
            "Epoch 26/200\n",
            "514/514 [==============================] - 5s 11ms/step - loss: 0.0227 - val_loss: 0.0224\n",
            "Epoch 27/200\n",
            "514/514 [==============================] - 6s 12ms/step - loss: 0.0224 - val_loss: 0.0219\n",
            "Epoch 28/200\n",
            "514/514 [==============================] - 5s 11ms/step - loss: 0.0226 - val_loss: 0.0210\n",
            "Epoch 29/200\n",
            "514/514 [==============================] - 5s 11ms/step - loss: 0.0216 - val_loss: 0.0206\n",
            "Epoch 30/200\n",
            "514/514 [==============================] - 6s 11ms/step - loss: 0.0215 - val_loss: 0.0198\n",
            "Epoch 31/200\n",
            "514/514 [==============================] - 5s 11ms/step - loss: 0.0221 - val_loss: 0.0203\n",
            "Epoch 32/200\n",
            "514/514 [==============================] - 6s 12ms/step - loss: 0.0226 - val_loss: 0.0206\n",
            "Epoch 33/200\n",
            "514/514 [==============================] - 5s 11ms/step - loss: 0.0214 - val_loss: 0.0207\n",
            "Epoch 34/200\n",
            "514/514 [==============================] - 6s 11ms/step - loss: 0.0216 - val_loss: 0.0212\n",
            "Epoch 35/200\n",
            "514/514 [==============================] - 6s 11ms/step - loss: 0.0216 - val_loss: 0.0202\n",
            "Epoch 36/200\n",
            "514/514 [==============================] - 5s 10ms/step - loss: 0.0212 - val_loss: 0.0200\n",
            "Epoch 37/200\n",
            "514/514 [==============================] - 6s 11ms/step - loss: 0.0214 - val_loss: 0.0203\n",
            "Epoch 38/200\n",
            "514/514 [==============================] - 5s 11ms/step - loss: 0.0205 - val_loss: 0.0208\n",
            "Epoch 39/200\n",
            "514/514 [==============================] - 5s 11ms/step - loss: 0.0206 - val_loss: 0.0204\n",
            "Epoch 40/200\n",
            "513/514 [============================>.] - ETA: 0s - loss: 0.0200Restoring model weights from the end of the best epoch: 30.\n",
            "514/514 [==============================] - 6s 11ms/step - loss: 0.0200 - val_loss: 0.0193\n",
            "Epoch 40: early stopping\n",
            "CPU times: user 5min 17s, sys: 33.1 s, total: 5min 50s\n",
            "Wall time: 3min 54s\n"
          ]
        },
        {
          "output_type": "execute_result",
          "data": {
            "text/plain": [
              "<keras.callbacks.History at 0x7efd3c74bc10>"
            ]
          },
          "metadata": {},
          "execution_count": 26
        }
      ],
      "source": [
        "%%time\n",
        "\n",
        "set_seed(50)\n",
        "\n",
        "# DEFINE STANDARD LSTM FORECASTER\n",
        "inputs = Input(shape=(X_train_.shape[1:]))\n",
        "lstm = LSTM(256, return_sequences=True, dropout=0.5)(inputs, training=True)\n",
        "lstm = LSTM(128, return_sequences=False, dropout=0.5)(lstm, training=True)\n",
        "dense = Dense(50)(lstm)\n",
        "out = Dense(1)(dense)\n",
        "\n",
        "model = Model(inputs, out)\n",
        "model.compile(loss='mse', optimizer='adam')\n",
        "\n",
        "# FIT FORECASTER\n",
        "es = EarlyStopping(patience=10, verbose=2, min_delta=0.001, \n",
        "                   monitor='val_loss', mode='auto', restore_best_weights=True)\n",
        "model.fit(X_train_, y_train, validation_data=(X_train_, y_train), \n",
        "          epochs=200, batch_size=256, verbose=1, callbacks=[es])"
      ]
    },
    {
      "cell_type": "code",
      "execution_count": null,
      "metadata": {
        "colab": {
          "base_uri": "https://localhost:8080/"
        },
        "id": "_Q_GNmqDp3O5",
        "outputId": "f4123871-f93c-4af4-b9aa-6836892b8c5e"
      },
      "outputs": [
        {
          "output_type": "stream",
          "name": "stderr",
          "text": [
            "\r  0%|          | 0/100 [00:00<?, ?it/s]"
          ]
        },
        {
          "output_type": "stream",
          "name": "stdout",
          "text": [
            "518/518 [==============================] - 2s 2ms/step\n"
          ]
        },
        {
          "output_type": "stream",
          "name": "stderr",
          "text": [
            "\r  1%|          | 1/100 [00:02<04:13,  2.56s/it]"
          ]
        },
        {
          "output_type": "stream",
          "name": "stdout",
          "text": [
            "518/518 [==============================] - 1s 2ms/step\n"
          ]
        },
        {
          "output_type": "stream",
          "name": "stderr",
          "text": [
            "\r  2%|▏         | 2/100 [00:04<03:29,  2.14s/it]"
          ]
        },
        {
          "output_type": "stream",
          "name": "stdout",
          "text": [
            "518/518 [==============================] - 1s 2ms/step\n"
          ]
        },
        {
          "output_type": "stream",
          "name": "stderr",
          "text": [
            "\r  3%|▎         | 3/100 [00:06<03:15,  2.02s/it]"
          ]
        },
        {
          "output_type": "stream",
          "name": "stdout",
          "text": [
            "518/518 [==============================] - 1s 3ms/step\n"
          ]
        },
        {
          "output_type": "stream",
          "name": "stderr",
          "text": [
            "\r  4%|▍         | 4/100 [00:08<03:13,  2.02s/it]"
          ]
        },
        {
          "output_type": "stream",
          "name": "stdout",
          "text": [
            "518/518 [==============================] - 1s 3ms/step\n"
          ]
        },
        {
          "output_type": "stream",
          "name": "stderr",
          "text": [
            "\r  5%|▌         | 5/100 [00:10<03:11,  2.02s/it]"
          ]
        },
        {
          "output_type": "stream",
          "name": "stdout",
          "text": [
            "518/518 [==============================] - 1s 2ms/step\n"
          ]
        },
        {
          "output_type": "stream",
          "name": "stderr",
          "text": [
            "\r  6%|▌         | 6/100 [00:12<03:03,  1.96s/it]"
          ]
        },
        {
          "output_type": "stream",
          "name": "stdout",
          "text": [
            "518/518 [==============================] - 1s 2ms/step\n"
          ]
        },
        {
          "output_type": "stream",
          "name": "stderr",
          "text": [
            "\r  7%|▋         | 7/100 [00:14<02:58,  1.92s/it]"
          ]
        },
        {
          "output_type": "stream",
          "name": "stdout",
          "text": [
            "518/518 [==============================] - 1s 2ms/step\n"
          ]
        },
        {
          "output_type": "stream",
          "name": "stderr",
          "text": [
            "\r  8%|▊         | 8/100 [00:15<02:55,  1.91s/it]"
          ]
        },
        {
          "output_type": "stream",
          "name": "stdout",
          "text": [
            "518/518 [==============================] - 1s 2ms/step\n"
          ]
        },
        {
          "output_type": "stream",
          "name": "stderr",
          "text": [
            "\r  9%|▉         | 9/100 [00:17<02:51,  1.89s/it]"
          ]
        },
        {
          "output_type": "stream",
          "name": "stdout",
          "text": [
            "518/518 [==============================] - 1s 2ms/step\n"
          ]
        },
        {
          "output_type": "stream",
          "name": "stderr",
          "text": [
            "\r 10%|█         | 10/100 [00:19<02:50,  1.89s/it]"
          ]
        },
        {
          "output_type": "stream",
          "name": "stdout",
          "text": [
            "518/518 [==============================] - 1s 3ms/step\n"
          ]
        },
        {
          "output_type": "stream",
          "name": "stderr",
          "text": [
            "\r 11%|█         | 11/100 [00:21<02:52,  1.94s/it]"
          ]
        },
        {
          "output_type": "stream",
          "name": "stdout",
          "text": [
            "518/518 [==============================] - 1s 3ms/step\n"
          ]
        },
        {
          "output_type": "stream",
          "name": "stderr",
          "text": [
            "\r 12%|█▏        | 12/100 [00:23<02:53,  1.97s/it]"
          ]
        },
        {
          "output_type": "stream",
          "name": "stdout",
          "text": [
            "518/518 [==============================] - 1s 2ms/step\n"
          ]
        },
        {
          "output_type": "stream",
          "name": "stderr",
          "text": [
            "\r 13%|█▎        | 13/100 [00:25<02:49,  1.94s/it]"
          ]
        },
        {
          "output_type": "stream",
          "name": "stdout",
          "text": [
            "518/518 [==============================] - 1s 2ms/step\n"
          ]
        },
        {
          "output_type": "stream",
          "name": "stderr",
          "text": [
            "\r 14%|█▍        | 14/100 [00:27<02:45,  1.93s/it]"
          ]
        },
        {
          "output_type": "stream",
          "name": "stdout",
          "text": [
            "518/518 [==============================] - 1s 2ms/step\n"
          ]
        },
        {
          "output_type": "stream",
          "name": "stderr",
          "text": [
            "\r 15%|█▌        | 15/100 [00:29<02:41,  1.90s/it]"
          ]
        },
        {
          "output_type": "stream",
          "name": "stdout",
          "text": [
            "518/518 [==============================] - 1s 2ms/step\n"
          ]
        },
        {
          "output_type": "stream",
          "name": "stderr",
          "text": [
            "\r 16%|█▌        | 16/100 [00:31<02:38,  1.89s/it]"
          ]
        },
        {
          "output_type": "stream",
          "name": "stdout",
          "text": [
            "518/518 [==============================] - 1s 2ms/step\n"
          ]
        },
        {
          "output_type": "stream",
          "name": "stderr",
          "text": [
            "\r 17%|█▋        | 17/100 [00:33<02:35,  1.87s/it]"
          ]
        },
        {
          "output_type": "stream",
          "name": "stdout",
          "text": [
            "518/518 [==============================] - 1s 3ms/step\n"
          ]
        },
        {
          "output_type": "stream",
          "name": "stderr",
          "text": [
            "\r 18%|█▊        | 18/100 [00:35<02:37,  1.92s/it]"
          ]
        },
        {
          "output_type": "stream",
          "name": "stdout",
          "text": [
            "518/518 [==============================] - 1s 3ms/step\n"
          ]
        },
        {
          "output_type": "stream",
          "name": "stderr",
          "text": [
            "\r 19%|█▉        | 19/100 [00:37<02:38,  1.95s/it]"
          ]
        },
        {
          "output_type": "stream",
          "name": "stdout",
          "text": [
            "518/518 [==============================] - 1s 2ms/step\n"
          ]
        },
        {
          "output_type": "stream",
          "name": "stderr",
          "text": [
            "\r 20%|██        | 20/100 [00:38<02:33,  1.91s/it]"
          ]
        },
        {
          "output_type": "stream",
          "name": "stdout",
          "text": [
            "518/518 [==============================] - 1s 2ms/step\n"
          ]
        },
        {
          "output_type": "stream",
          "name": "stderr",
          "text": [
            "\r 21%|██        | 21/100 [00:40<02:28,  1.88s/it]"
          ]
        },
        {
          "output_type": "stream",
          "name": "stdout",
          "text": [
            "518/518 [==============================] - 1s 2ms/step\n"
          ]
        },
        {
          "output_type": "stream",
          "name": "stderr",
          "text": [
            "\r 22%|██▏       | 22/100 [00:42<02:25,  1.87s/it]"
          ]
        },
        {
          "output_type": "stream",
          "name": "stdout",
          "text": [
            "518/518 [==============================] - 1s 2ms/step\n"
          ]
        },
        {
          "output_type": "stream",
          "name": "stderr",
          "text": [
            "\r 23%|██▎       | 23/100 [00:44<02:24,  1.87s/it]"
          ]
        },
        {
          "output_type": "stream",
          "name": "stdout",
          "text": [
            "518/518 [==============================] - 1s 2ms/step\n"
          ]
        },
        {
          "output_type": "stream",
          "name": "stderr",
          "text": [
            "\r 24%|██▍       | 24/100 [00:46<02:21,  1.86s/it]"
          ]
        },
        {
          "output_type": "stream",
          "name": "stdout",
          "text": [
            "518/518 [==============================] - 1s 3ms/step\n"
          ]
        },
        {
          "output_type": "stream",
          "name": "stderr",
          "text": [
            "\r 25%|██▌       | 25/100 [00:48<02:21,  1.89s/it]"
          ]
        },
        {
          "output_type": "stream",
          "name": "stdout",
          "text": [
            "518/518 [==============================] - 1s 3ms/step\n"
          ]
        },
        {
          "output_type": "stream",
          "name": "stderr",
          "text": [
            "\r 26%|██▌       | 26/100 [00:50<02:21,  1.92s/it]"
          ]
        },
        {
          "output_type": "stream",
          "name": "stdout",
          "text": [
            "518/518 [==============================] - 1s 2ms/step\n"
          ]
        },
        {
          "output_type": "stream",
          "name": "stderr",
          "text": [
            "\r 27%|██▋       | 27/100 [00:52<02:18,  1.89s/it]"
          ]
        },
        {
          "output_type": "stream",
          "name": "stdout",
          "text": [
            "518/518 [==============================] - 1s 2ms/step\n"
          ]
        },
        {
          "output_type": "stream",
          "name": "stderr",
          "text": [
            "\r 28%|██▊       | 28/100 [00:53<02:15,  1.88s/it]"
          ]
        },
        {
          "output_type": "stream",
          "name": "stdout",
          "text": [
            "518/518 [==============================] - 1s 2ms/step\n"
          ]
        },
        {
          "output_type": "stream",
          "name": "stderr",
          "text": [
            "\r 29%|██▉       | 29/100 [00:55<02:13,  1.88s/it]"
          ]
        },
        {
          "output_type": "stream",
          "name": "stdout",
          "text": [
            "518/518 [==============================] - 1s 2ms/step\n"
          ]
        },
        {
          "output_type": "stream",
          "name": "stderr",
          "text": [
            "\r 30%|███       | 30/100 [00:57<02:12,  1.89s/it]"
          ]
        },
        {
          "output_type": "stream",
          "name": "stdout",
          "text": [
            "518/518 [==============================] - 1s 2ms/step\n"
          ]
        },
        {
          "output_type": "stream",
          "name": "stderr",
          "text": [
            "\r 31%|███       | 31/100 [00:59<02:08,  1.87s/it]"
          ]
        },
        {
          "output_type": "stream",
          "name": "stdout",
          "text": [
            "518/518 [==============================] - 1s 3ms/step\n"
          ]
        },
        {
          "output_type": "stream",
          "name": "stderr",
          "text": [
            "\r 32%|███▏      | 32/100 [01:01<02:09,  1.90s/it]"
          ]
        },
        {
          "output_type": "stream",
          "name": "stdout",
          "text": [
            "518/518 [==============================] - 1s 3ms/step\n"
          ]
        },
        {
          "output_type": "stream",
          "name": "stderr",
          "text": [
            "\r 33%|███▎      | 33/100 [01:03<02:09,  1.93s/it]"
          ]
        },
        {
          "output_type": "stream",
          "name": "stdout",
          "text": [
            "518/518 [==============================] - 1s 2ms/step\n"
          ]
        },
        {
          "output_type": "stream",
          "name": "stderr",
          "text": [
            "\r 34%|███▍      | 34/100 [01:05<02:06,  1.91s/it]"
          ]
        },
        {
          "output_type": "stream",
          "name": "stdout",
          "text": [
            "518/518 [==============================] - 1s 2ms/step\n"
          ]
        },
        {
          "output_type": "stream",
          "name": "stderr",
          "text": [
            "\r 35%|███▌      | 35/100 [01:07<02:03,  1.90s/it]"
          ]
        },
        {
          "output_type": "stream",
          "name": "stdout",
          "text": [
            "518/518 [==============================] - 1s 2ms/step\n"
          ]
        },
        {
          "output_type": "stream",
          "name": "stderr",
          "text": [
            "\r 36%|███▌      | 36/100 [01:09<02:00,  1.89s/it]"
          ]
        },
        {
          "output_type": "stream",
          "name": "stdout",
          "text": [
            "518/518 [==============================] - 1s 2ms/step\n"
          ]
        },
        {
          "output_type": "stream",
          "name": "stderr",
          "text": [
            "\r 37%|███▋      | 37/100 [01:10<01:57,  1.87s/it]"
          ]
        },
        {
          "output_type": "stream",
          "name": "stdout",
          "text": [
            "518/518 [==============================] - 1s 2ms/step\n"
          ]
        },
        {
          "output_type": "stream",
          "name": "stderr",
          "text": [
            "\r 38%|███▊      | 38/100 [01:12<01:55,  1.86s/it]"
          ]
        },
        {
          "output_type": "stream",
          "name": "stdout",
          "text": [
            "518/518 [==============================] - 1s 3ms/step\n"
          ]
        },
        {
          "output_type": "stream",
          "name": "stderr",
          "text": [
            "\r 39%|███▉      | 39/100 [01:14<01:54,  1.87s/it]"
          ]
        },
        {
          "output_type": "stream",
          "name": "stdout",
          "text": [
            "518/518 [==============================] - 1s 3ms/step\n"
          ]
        },
        {
          "output_type": "stream",
          "name": "stderr",
          "text": [
            "\r 40%|████      | 40/100 [01:16<01:54,  1.92s/it]"
          ]
        },
        {
          "output_type": "stream",
          "name": "stdout",
          "text": [
            "518/518 [==============================] - 1s 2ms/step\n"
          ]
        },
        {
          "output_type": "stream",
          "name": "stderr",
          "text": [
            "\r 41%|████      | 41/100 [01:18<01:53,  1.92s/it]"
          ]
        },
        {
          "output_type": "stream",
          "name": "stdout",
          "text": [
            "518/518 [==============================] - 1s 2ms/step\n"
          ]
        },
        {
          "output_type": "stream",
          "name": "stderr",
          "text": [
            "\r 42%|████▏     | 42/100 [01:20<01:50,  1.91s/it]"
          ]
        },
        {
          "output_type": "stream",
          "name": "stdout",
          "text": [
            "518/518 [==============================] - 1s 2ms/step\n"
          ]
        },
        {
          "output_type": "stream",
          "name": "stderr",
          "text": [
            "\r 43%|████▎     | 43/100 [01:22<01:47,  1.89s/it]"
          ]
        },
        {
          "output_type": "stream",
          "name": "stdout",
          "text": [
            "518/518 [==============================] - 1s 2ms/step\n"
          ]
        },
        {
          "output_type": "stream",
          "name": "stderr",
          "text": [
            "\r 44%|████▍     | 44/100 [01:24<01:45,  1.88s/it]"
          ]
        },
        {
          "output_type": "stream",
          "name": "stdout",
          "text": [
            "518/518 [==============================] - 1s 3ms/step\n"
          ]
        },
        {
          "output_type": "stream",
          "name": "stderr",
          "text": [
            "\r 45%|████▌     | 45/100 [01:26<01:44,  1.89s/it]"
          ]
        },
        {
          "output_type": "stream",
          "name": "stdout",
          "text": [
            "518/518 [==============================] - 1s 3ms/step\n"
          ]
        },
        {
          "output_type": "stream",
          "name": "stderr",
          "text": [
            "\r 46%|████▌     | 46/100 [01:28<01:43,  1.91s/it]"
          ]
        },
        {
          "output_type": "stream",
          "name": "stdout",
          "text": [
            "518/518 [==============================] - 1s 3ms/step\n"
          ]
        },
        {
          "output_type": "stream",
          "name": "stderr",
          "text": [
            "\r 47%|████▋     | 47/100 [01:30<01:42,  1.93s/it]"
          ]
        },
        {
          "output_type": "stream",
          "name": "stdout",
          "text": [
            "518/518 [==============================] - 1s 2ms/step\n"
          ]
        },
        {
          "output_type": "stream",
          "name": "stderr",
          "text": [
            "\r 48%|████▊     | 48/100 [01:31<01:39,  1.92s/it]"
          ]
        },
        {
          "output_type": "stream",
          "name": "stdout",
          "text": [
            "518/518 [==============================] - 1s 2ms/step\n"
          ]
        },
        {
          "output_type": "stream",
          "name": "stderr",
          "text": [
            "\r 49%|████▉     | 49/100 [01:33<01:36,  1.90s/it]"
          ]
        },
        {
          "output_type": "stream",
          "name": "stdout",
          "text": [
            "518/518 [==============================] - 1s 3ms/step\n"
          ]
        },
        {
          "output_type": "stream",
          "name": "stderr",
          "text": [
            "\r 50%|█████     | 50/100 [01:35<01:34,  1.90s/it]"
          ]
        },
        {
          "output_type": "stream",
          "name": "stdout",
          "text": [
            "518/518 [==============================] - 1s 2ms/step\n"
          ]
        },
        {
          "output_type": "stream",
          "name": "stderr",
          "text": [
            "\r 51%|█████     | 51/100 [01:37<01:32,  1.89s/it]"
          ]
        },
        {
          "output_type": "stream",
          "name": "stdout",
          "text": [
            "518/518 [==============================] - 1s 2ms/step\n"
          ]
        },
        {
          "output_type": "stream",
          "name": "stderr",
          "text": [
            "\r 52%|█████▏    | 52/100 [01:39<01:29,  1.87s/it]"
          ]
        },
        {
          "output_type": "stream",
          "name": "stdout",
          "text": [
            "518/518 [==============================] - 1s 3ms/step\n"
          ]
        },
        {
          "output_type": "stream",
          "name": "stderr",
          "text": [
            "\r 53%|█████▎    | 53/100 [01:41<01:28,  1.89s/it]"
          ]
        },
        {
          "output_type": "stream",
          "name": "stdout",
          "text": [
            "518/518 [==============================] - 1s 3ms/step\n"
          ]
        },
        {
          "output_type": "stream",
          "name": "stderr",
          "text": [
            "\r 54%|█████▍    | 54/100 [01:43<01:28,  1.92s/it]"
          ]
        },
        {
          "output_type": "stream",
          "name": "stdout",
          "text": [
            "518/518 [==============================] - 1s 3ms/step\n"
          ]
        },
        {
          "output_type": "stream",
          "name": "stderr",
          "text": [
            "\r 55%|█████▌    | 55/100 [01:45<01:26,  1.93s/it]"
          ]
        },
        {
          "output_type": "stream",
          "name": "stdout",
          "text": [
            "518/518 [==============================] - 1s 2ms/step\n"
          ]
        },
        {
          "output_type": "stream",
          "name": "stderr",
          "text": [
            "\r 56%|█████▌    | 56/100 [01:47<01:23,  1.91s/it]"
          ]
        },
        {
          "output_type": "stream",
          "name": "stdout",
          "text": [
            "518/518 [==============================] - 1s 2ms/step\n"
          ]
        },
        {
          "output_type": "stream",
          "name": "stderr",
          "text": [
            "\r 57%|█████▋    | 57/100 [01:48<01:21,  1.89s/it]"
          ]
        },
        {
          "output_type": "stream",
          "name": "stdout",
          "text": [
            "518/518 [==============================] - 1s 2ms/step\n"
          ]
        },
        {
          "output_type": "stream",
          "name": "stderr",
          "text": [
            "\r 58%|█████▊    | 58/100 [01:50<01:18,  1.87s/it]"
          ]
        },
        {
          "output_type": "stream",
          "name": "stdout",
          "text": [
            "518/518 [==============================] - 1s 2ms/step\n"
          ]
        },
        {
          "output_type": "stream",
          "name": "stderr",
          "text": [
            "\r 59%|█████▉    | 59/100 [01:52<01:16,  1.87s/it]"
          ]
        },
        {
          "output_type": "stream",
          "name": "stdout",
          "text": [
            "518/518 [==============================] - 1s 3ms/step\n"
          ]
        },
        {
          "output_type": "stream",
          "name": "stderr",
          "text": [
            "\r 60%|██████    | 60/100 [01:54<01:15,  1.89s/it]"
          ]
        },
        {
          "output_type": "stream",
          "name": "stdout",
          "text": [
            "518/518 [==============================] - 1s 3ms/step\n"
          ]
        },
        {
          "output_type": "stream",
          "name": "stderr",
          "text": [
            "\r 61%|██████    | 61/100 [01:56<01:15,  1.93s/it]"
          ]
        },
        {
          "output_type": "stream",
          "name": "stdout",
          "text": [
            "518/518 [==============================] - 1s 3ms/step\n"
          ]
        },
        {
          "output_type": "stream",
          "name": "stderr",
          "text": [
            "\r 62%|██████▏   | 62/100 [01:58<01:13,  1.93s/it]"
          ]
        },
        {
          "output_type": "stream",
          "name": "stdout",
          "text": [
            "518/518 [==============================] - 1s 2ms/step\n"
          ]
        },
        {
          "output_type": "stream",
          "name": "stderr",
          "text": [
            "\r 63%|██████▎   | 63/100 [02:00<01:10,  1.90s/it]"
          ]
        },
        {
          "output_type": "stream",
          "name": "stdout",
          "text": [
            "518/518 [==============================] - 1s 2ms/step\n"
          ]
        },
        {
          "output_type": "stream",
          "name": "stderr",
          "text": [
            "\r 64%|██████▍   | 64/100 [02:02<01:08,  1.89s/it]"
          ]
        },
        {
          "output_type": "stream",
          "name": "stdout",
          "text": [
            "518/518 [==============================] - 1s 2ms/step\n"
          ]
        },
        {
          "output_type": "stream",
          "name": "stderr",
          "text": [
            "\r 65%|██████▌   | 65/100 [02:04<01:05,  1.88s/it]"
          ]
        },
        {
          "output_type": "stream",
          "name": "stdout",
          "text": [
            "518/518 [==============================] - 1s 2ms/step\n"
          ]
        },
        {
          "output_type": "stream",
          "name": "stderr",
          "text": [
            "\r 66%|██████▌   | 66/100 [02:05<01:03,  1.86s/it]"
          ]
        },
        {
          "output_type": "stream",
          "name": "stdout",
          "text": [
            "518/518 [==============================] - 1s 2ms/step\n"
          ]
        },
        {
          "output_type": "stream",
          "name": "stderr",
          "text": [
            "\r 67%|██████▋   | 67/100 [02:07<01:01,  1.87s/it]"
          ]
        },
        {
          "output_type": "stream",
          "name": "stdout",
          "text": [
            "518/518 [==============================] - 1s 3ms/step\n"
          ]
        },
        {
          "output_type": "stream",
          "name": "stderr",
          "text": [
            "\r 68%|██████▊   | 68/100 [02:09<01:01,  1.91s/it]"
          ]
        },
        {
          "output_type": "stream",
          "name": "stdout",
          "text": [
            "518/518 [==============================] - 1s 3ms/step\n"
          ]
        },
        {
          "output_type": "stream",
          "name": "stderr",
          "text": [
            "\r 69%|██████▉   | 69/100 [02:11<01:00,  1.94s/it]"
          ]
        },
        {
          "output_type": "stream",
          "name": "stdout",
          "text": [
            "518/518 [==============================] - 1s 2ms/step\n"
          ]
        },
        {
          "output_type": "stream",
          "name": "stderr",
          "text": [
            "\r 70%|███████   | 70/100 [02:13<00:57,  1.92s/it]"
          ]
        },
        {
          "output_type": "stream",
          "name": "stdout",
          "text": [
            "518/518 [==============================] - 1s 3ms/step\n"
          ]
        },
        {
          "output_type": "stream",
          "name": "stderr",
          "text": [
            "\r 71%|███████   | 71/100 [02:15<00:55,  1.91s/it]"
          ]
        },
        {
          "output_type": "stream",
          "name": "stdout",
          "text": [
            "518/518 [==============================] - 1s 2ms/step\n"
          ]
        },
        {
          "output_type": "stream",
          "name": "stderr",
          "text": [
            "\r 72%|███████▏  | 72/100 [02:17<00:52,  1.89s/it]"
          ]
        },
        {
          "output_type": "stream",
          "name": "stdout",
          "text": [
            "518/518 [==============================] - 1s 2ms/step\n"
          ]
        },
        {
          "output_type": "stream",
          "name": "stderr",
          "text": [
            "\r 73%|███████▎  | 73/100 [02:19<00:50,  1.88s/it]"
          ]
        },
        {
          "output_type": "stream",
          "name": "stdout",
          "text": [
            "518/518 [==============================] - 1s 2ms/step\n"
          ]
        },
        {
          "output_type": "stream",
          "name": "stderr",
          "text": [
            "\r 74%|███████▍  | 74/100 [02:21<00:49,  1.89s/it]"
          ]
        },
        {
          "output_type": "stream",
          "name": "stdout",
          "text": [
            "518/518 [==============================] - 1s 3ms/step\n"
          ]
        },
        {
          "output_type": "stream",
          "name": "stderr",
          "text": [
            "\r 75%|███████▌  | 75/100 [02:23<00:48,  1.92s/it]"
          ]
        },
        {
          "output_type": "stream",
          "name": "stdout",
          "text": [
            "518/518 [==============================] - 1s 3ms/step\n"
          ]
        },
        {
          "output_type": "stream",
          "name": "stderr",
          "text": [
            "\r 76%|███████▌  | 76/100 [02:25<00:46,  1.94s/it]"
          ]
        },
        {
          "output_type": "stream",
          "name": "stdout",
          "text": [
            "518/518 [==============================] - 1s 2ms/step\n"
          ]
        },
        {
          "output_type": "stream",
          "name": "stderr",
          "text": [
            "\r 77%|███████▋  | 77/100 [02:27<00:44,  1.93s/it]"
          ]
        },
        {
          "output_type": "stream",
          "name": "stdout",
          "text": [
            "518/518 [==============================] - 1s 2ms/step\n"
          ]
        },
        {
          "output_type": "stream",
          "name": "stderr",
          "text": [
            "\r 78%|███████▊  | 78/100 [02:28<00:42,  1.91s/it]"
          ]
        },
        {
          "output_type": "stream",
          "name": "stdout",
          "text": [
            "518/518 [==============================] - 1s 2ms/step\n"
          ]
        },
        {
          "output_type": "stream",
          "name": "stderr",
          "text": [
            "\r 79%|███████▉  | 79/100 [02:31<00:47,  2.24s/it]"
          ]
        },
        {
          "output_type": "stream",
          "name": "stdout",
          "text": [
            "518/518 [==============================] - 1s 2ms/step\n"
          ]
        },
        {
          "output_type": "stream",
          "name": "stderr",
          "text": [
            "\r 80%|████████  | 80/100 [02:33<00:42,  2.12s/it]"
          ]
        },
        {
          "output_type": "stream",
          "name": "stdout",
          "text": [
            "518/518 [==============================] - 1s 3ms/step\n"
          ]
        },
        {
          "output_type": "stream",
          "name": "stderr",
          "text": [
            "\r 81%|████████  | 81/100 [02:35<00:39,  2.09s/it]"
          ]
        },
        {
          "output_type": "stream",
          "name": "stdout",
          "text": [
            "518/518 [==============================] - 1s 3ms/step\n"
          ]
        },
        {
          "output_type": "stream",
          "name": "stderr",
          "text": [
            "\r 82%|████████▏ | 82/100 [02:37<00:37,  2.07s/it]"
          ]
        },
        {
          "output_type": "stream",
          "name": "stdout",
          "text": [
            "518/518 [==============================] - 1s 2ms/step\n"
          ]
        },
        {
          "output_type": "stream",
          "name": "stderr",
          "text": [
            "\r 83%|████████▎ | 83/100 [02:39<00:34,  2.01s/it]"
          ]
        },
        {
          "output_type": "stream",
          "name": "stdout",
          "text": [
            "518/518 [==============================] - 1s 2ms/step\n"
          ]
        },
        {
          "output_type": "stream",
          "name": "stderr",
          "text": [
            "\r 84%|████████▍ | 84/100 [02:41<00:31,  1.96s/it]"
          ]
        },
        {
          "output_type": "stream",
          "name": "stdout",
          "text": [
            "518/518 [==============================] - 1s 2ms/step\n"
          ]
        },
        {
          "output_type": "stream",
          "name": "stderr",
          "text": [
            "\r 85%|████████▌ | 85/100 [02:43<00:28,  1.92s/it]"
          ]
        },
        {
          "output_type": "stream",
          "name": "stdout",
          "text": [
            "518/518 [==============================] - 1s 2ms/step\n"
          ]
        },
        {
          "output_type": "stream",
          "name": "stderr",
          "text": [
            "\r 86%|████████▌ | 86/100 [02:45<00:26,  1.90s/it]"
          ]
        },
        {
          "output_type": "stream",
          "name": "stdout",
          "text": [
            "518/518 [==============================] - 1s 2ms/step\n"
          ]
        },
        {
          "output_type": "stream",
          "name": "stderr",
          "text": [
            "\r 87%|████████▋ | 87/100 [02:47<00:24,  1.88s/it]"
          ]
        },
        {
          "output_type": "stream",
          "name": "stdout",
          "text": [
            "518/518 [==============================] - 1s 3ms/step\n"
          ]
        },
        {
          "output_type": "stream",
          "name": "stderr",
          "text": [
            "\r 88%|████████▊ | 88/100 [02:49<00:23,  1.92s/it]"
          ]
        },
        {
          "output_type": "stream",
          "name": "stdout",
          "text": [
            "518/518 [==============================] - 1s 3ms/step\n"
          ]
        },
        {
          "output_type": "stream",
          "name": "stderr",
          "text": [
            "\r 89%|████████▉ | 89/100 [02:51<00:21,  1.94s/it]"
          ]
        },
        {
          "output_type": "stream",
          "name": "stdout",
          "text": [
            "518/518 [==============================] - 1s 2ms/step\n"
          ]
        },
        {
          "output_type": "stream",
          "name": "stderr",
          "text": [
            "\r 90%|█████████ | 90/100 [02:52<00:19,  1.92s/it]"
          ]
        },
        {
          "output_type": "stream",
          "name": "stdout",
          "text": [
            "518/518 [==============================] - 1s 2ms/step\n"
          ]
        },
        {
          "output_type": "stream",
          "name": "stderr",
          "text": [
            "\r 91%|█████████ | 91/100 [02:54<00:17,  1.89s/it]"
          ]
        },
        {
          "output_type": "stream",
          "name": "stdout",
          "text": [
            "518/518 [==============================] - 1s 2ms/step\n"
          ]
        },
        {
          "output_type": "stream",
          "name": "stderr",
          "text": [
            "\r 92%|█████████▏| 92/100 [02:56<00:15,  1.89s/it]"
          ]
        },
        {
          "output_type": "stream",
          "name": "stdout",
          "text": [
            "518/518 [==============================] - 1s 2ms/step\n"
          ]
        },
        {
          "output_type": "stream",
          "name": "stderr",
          "text": [
            "\r 93%|█████████▎| 93/100 [02:58<00:13,  1.88s/it]"
          ]
        },
        {
          "output_type": "stream",
          "name": "stdout",
          "text": [
            "518/518 [==============================] - 1s 2ms/step\n"
          ]
        },
        {
          "output_type": "stream",
          "name": "stderr",
          "text": [
            "\r 94%|█████████▍| 94/100 [03:00<00:11,  1.87s/it]"
          ]
        },
        {
          "output_type": "stream",
          "name": "stdout",
          "text": [
            "518/518 [==============================] - 1s 3ms/step\n"
          ]
        },
        {
          "output_type": "stream",
          "name": "stderr",
          "text": [
            "\r 95%|█████████▌| 95/100 [03:02<00:09,  1.90s/it]"
          ]
        },
        {
          "output_type": "stream",
          "name": "stdout",
          "text": [
            "518/518 [==============================] - 1s 3ms/step\n"
          ]
        },
        {
          "output_type": "stream",
          "name": "stderr",
          "text": [
            "\r 96%|█████████▌| 96/100 [03:04<00:07,  1.94s/it]"
          ]
        },
        {
          "output_type": "stream",
          "name": "stdout",
          "text": [
            "518/518 [==============================] - 1s 3ms/step\n"
          ]
        },
        {
          "output_type": "stream",
          "name": "stderr",
          "text": [
            "\r 97%|█████████▋| 97/100 [03:06<00:05,  1.96s/it]"
          ]
        },
        {
          "output_type": "stream",
          "name": "stdout",
          "text": [
            "518/518 [==============================] - 1s 3ms/step\n"
          ]
        },
        {
          "output_type": "stream",
          "name": "stderr",
          "text": [
            "\r 98%|█████████▊| 98/100 [03:08<00:03,  1.94s/it]"
          ]
        },
        {
          "output_type": "stream",
          "name": "stdout",
          "text": [
            "518/518 [==============================] - 1s 2ms/step\n"
          ]
        },
        {
          "output_type": "stream",
          "name": "stderr",
          "text": [
            "\r 99%|█████████▉| 99/100 [03:10<00:01,  1.93s/it]"
          ]
        },
        {
          "output_type": "stream",
          "name": "stdout",
          "text": [
            "518/518 [==============================] - 1s 3ms/step\n"
          ]
        },
        {
          "output_type": "stream",
          "name": "stderr",
          "text": [
            "100%|██████████| 100/100 [03:12<00:00,  1.92s/it]"
          ]
        },
        {
          "output_type": "stream",
          "name": "stdout",
          "text": [
            "0.09961180807698787 0.0002943399118690715\n",
            "CPU times: user 3min 34s, sys: 41.6 s, total: 4min 15s\n",
            "Wall time: 3min 12s\n"
          ]
        },
        {
          "output_type": "stream",
          "name": "stderr",
          "text": [
            "\n"
          ]
        }
      ],
      "source": [
        "# COMPUTE STOCHASTIC DROPOUT \n",
        "%%time\n",
        "scores = []\n",
        "for i in tqdm.tqdm(range(0,100)):\n",
        "    scores.append(mean_absolute_error(y_test, model.predict(X_test_).ravel()))\n",
        "\n",
        "print(np.mean(scores), np.std(scores))"
      ]
    },
    {
      "cell_type": "code",
      "execution_count": null,
      "metadata": {
        "colab": {
          "base_uri": "https://localhost:8080/"
        },
        "id": "5LDrFOsXp8jA",
        "outputId": "3817df99-1c27-47fd-fdfc-0983f3c94247"
      },
      "outputs": [
        {
          "output_type": "stream",
          "name": "stdout",
          "text": [
            "{'LSTM': None, 'Autoencoder+LSTM': {'mean': 0.09961180807698787, 'std': 0.0002943399118690715}}\n"
          ]
        }
      ],
      "source": [
        "results = {'LSTM':None, 'Autoencoder+LSTM':None}\n",
        "results['Autoencoder+LSTM'] = {'mean':np.mean(scores), 'std':np.std(scores)}\n",
        "print(results)"
      ]
    },
    {
      "cell_type": "markdown",
      "metadata": {
        "id": "b1v-C3KyR5Dq"
      },
      "source": [
        "# TESTING THE MODEL"
      ]
    },
    {
      "cell_type": "code",
      "execution_count": null,
      "metadata": {
        "colab": {
          "base_uri": "https://localhost:8080/"
        },
        "id": "DkgplrHRZ6kT",
        "outputId": "5ca3d8f3-ae32-4eda-b5a1-e413d05b4e06"
      },
      "outputs": [
        {
          "output_type": "stream",
          "name": "stdout",
          "text": [
            "518/518 [==============================] - 1s 3ms/step\n",
            "Autoencoder + LSTM -  MSE: 0.0440\n",
            "Autoencoder + LSTM -  MAE: 0.0994\n"
          ]
        }
      ],
      "source": [
        "# Evaluate model on test set\n",
        "mse = model.evaluate(X_test_, y_test, verbose=0)\n",
        "\n",
        "# Get model predictions on test set\n",
        "y_pred = model.predict(X_test_)\n",
        "\n",
        "# Calculate MAE\n",
        "mae = mean_absolute_error(y_test, y_pred)\n",
        "\n",
        "print(f\"Autoencoder + LSTM -  MSE: {mse:.4f}\")\n",
        "print(f\"Autoencoder + LSTM -  MAE: {mae:.4f}\")"
      ]
    },
    {
      "cell_type": "markdown",
      "metadata": {
        "id": "V_IgOnpAxHmJ"
      },
      "source": [
        "# SIMPLE LSTM (MODEL 2)"
      ]
    },
    {
      "cell_type": "code",
      "execution_count": null,
      "metadata": {
        "colab": {
          "base_uri": "https://localhost:8080/"
        },
        "id": "ZC8ngFlVusev",
        "outputId": "d6b3c1fa-7933-45ac-c690-c7fd7a36b8e0"
      },
      "outputs": [
        {
          "output_type": "stream",
          "name": "stdout",
          "text": [
            "Epoch 1/200\n",
            "514/514 [==============================] - 10s 12ms/step - loss: 0.0265 - val_loss: 0.0254\n",
            "Epoch 2/200\n",
            "514/514 [==============================] - 5s 9ms/step - loss: 0.0255 - val_loss: 0.0253\n",
            "Epoch 3/200\n",
            "514/514 [==============================] - 4s 9ms/step - loss: 0.0253 - val_loss: 0.0251\n",
            "Epoch 4/200\n",
            "514/514 [==============================] - 4s 9ms/step - loss: 0.0251 - val_loss: 0.0252\n",
            "Epoch 5/200\n",
            "514/514 [==============================] - 5s 9ms/step - loss: 0.0250 - val_loss: 0.0249\n",
            "Epoch 6/200\n",
            "514/514 [==============================] - 4s 9ms/step - loss: 0.0249 - val_loss: 0.0247\n",
            "Epoch 7/200\n",
            "514/514 [==============================] - 4s 8ms/step - loss: 0.0248 - val_loss: 0.0246\n",
            "Epoch 8/200\n",
            "514/514 [==============================] - 5s 9ms/step - loss: 0.0248 - val_loss: 0.0245\n",
            "Epoch 9/200\n",
            "514/514 [==============================] - 4s 8ms/step - loss: 0.0246 - val_loss: 0.0244\n",
            "Epoch 10/200\n",
            "514/514 [==============================] - 4s 8ms/step - loss: 0.0245 - val_loss: 0.0243\n",
            "Epoch 11/200\n",
            "514/514 [==============================] - 5s 9ms/step - loss: 0.0245 - val_loss: 0.0242\n",
            "Epoch 12/200\n",
            "514/514 [==============================] - 4s 8ms/step - loss: 0.0244 - val_loss: 0.0242\n",
            "Epoch 13/200\n",
            "514/514 [==============================] - 4s 8ms/step - loss: 0.0243 - val_loss: 0.0240\n",
            "Epoch 14/200\n",
            "514/514 [==============================] - 5s 9ms/step - loss: 0.0242 - val_loss: 0.0239\n",
            "Epoch 15/200\n",
            "514/514 [==============================] - 4s 9ms/step - loss: 0.0241 - val_loss: 0.0239\n",
            "Epoch 16/200\n",
            "514/514 [==============================] - 4s 8ms/step - loss: 0.0240 - val_loss: 0.0236\n",
            "Epoch 17/200\n",
            "514/514 [==============================] - 5s 9ms/step - loss: 0.0239 - val_loss: 0.0235\n",
            "Epoch 18/200\n",
            "514/514 [==============================] - 4s 9ms/step - loss: 0.0239 - val_loss: 0.0236\n",
            "Epoch 19/200\n",
            "514/514 [==============================] - 4s 8ms/step - loss: 0.0239 - val_loss: 0.0234\n",
            "Epoch 20/200\n",
            "514/514 [==============================] - 5s 9ms/step - loss: 0.0238 - val_loss: 0.0235\n",
            "Epoch 21/200\n",
            "514/514 [==============================] - 4s 9ms/step - loss: 0.0238 - val_loss: 0.0231\n",
            "Epoch 22/200\n",
            "514/514 [==============================] - 4s 9ms/step - loss: 0.0236 - val_loss: 0.0234\n",
            "Epoch 23/200\n",
            "514/514 [==============================] - 5s 9ms/step - loss: 0.0234 - val_loss: 0.0224\n",
            "Epoch 24/200\n",
            "514/514 [==============================] - 4s 9ms/step - loss: 0.0235 - val_loss: 0.0228\n",
            "Epoch 25/200\n",
            "514/514 [==============================] - 4s 8ms/step - loss: 0.0234 - val_loss: 0.0228\n",
            "Epoch 26/200\n",
            "514/514 [==============================] - 5s 9ms/step - loss: 0.0233 - val_loss: 0.0227\n",
            "Epoch 27/200\n",
            "514/514 [==============================] - 4s 9ms/step - loss: 0.0235 - val_loss: 0.0224\n",
            "Epoch 28/200\n",
            "514/514 [==============================] - 4s 8ms/step - loss: 0.0232 - val_loss: 0.0223\n",
            "Epoch 29/200\n",
            "514/514 [==============================] - 5s 11ms/step - loss: 0.0225 - val_loss: 0.0226\n",
            "Epoch 30/200\n",
            "514/514 [==============================] - 4s 9ms/step - loss: 0.0236 - val_loss: 0.0229\n",
            "Epoch 31/200\n",
            "514/514 [==============================] - 4s 8ms/step - loss: 0.0233 - val_loss: 0.0218\n",
            "Epoch 32/200\n",
            "514/514 [==============================] - 5s 9ms/step - loss: 0.0231 - val_loss: 0.0229\n",
            "Epoch 33/200\n",
            "514/514 [==============================] - 5s 9ms/step - loss: 0.0226 - val_loss: 0.0224\n",
            "Epoch 34/200\n",
            "514/514 [==============================] - 4s 8ms/step - loss: 0.0228 - val_loss: 0.0224\n",
            "Epoch 35/200\n",
            "514/514 [==============================] - 4s 9ms/step - loss: 0.0230 - val_loss: 0.0231\n",
            "Epoch 36/200\n",
            "514/514 [==============================] - 5s 9ms/step - loss: 0.0234 - val_loss: 0.0228\n",
            "Epoch 37/200\n",
            "514/514 [==============================] - 4s 8ms/step - loss: 0.0227 - val_loss: 0.0221\n",
            "Epoch 38/200\n",
            "514/514 [==============================] - 5s 9ms/step - loss: 0.0223 - val_loss: 0.0216\n",
            "Epoch 39/200\n",
            "514/514 [==============================] - 5s 9ms/step - loss: 0.0223 - val_loss: 0.0232\n",
            "Epoch 40/200\n",
            "514/514 [==============================] - 4s 9ms/step - loss: 0.0236 - val_loss: 0.0218\n",
            "Epoch 41/200\n",
            "514/514 [==============================] - 4s 9ms/step - loss: 0.0221 - val_loss: 0.0213\n",
            "Epoch 42/200\n",
            "514/514 [==============================] - 5s 9ms/step - loss: 0.0231 - val_loss: 0.0220\n",
            "Epoch 43/200\n",
            "514/514 [==============================] - 4s 9ms/step - loss: 0.0229 - val_loss: 0.0225\n",
            "Epoch 44/200\n",
            "514/514 [==============================] - 4s 9ms/step - loss: 0.0230 - val_loss: 0.0219\n",
            "Epoch 45/200\n",
            "514/514 [==============================] - 5s 9ms/step - loss: 0.0220 - val_loss: 0.0210\n",
            "Epoch 46/200\n",
            "514/514 [==============================] - ETA: 0s - loss: 0.0228Restoring model weights from the end of the best epoch: 31.\n",
            "514/514 [==============================] - 4s 9ms/step - loss: 0.0228 - val_loss: 0.0224\n",
            "Epoch 46: early stopping\n"
          ]
        },
        {
          "output_type": "execute_result",
          "data": {
            "text/plain": [
              "<keras.callbacks.History at 0x7efba6075700>"
            ]
          },
          "metadata": {},
          "execution_count": 30
        }
      ],
      "source": [
        "set_seed(50)\n",
        "\n",
        "# DEFINE FORECASTER \n",
        "inputs = Input(shape=(X_train.shape[1:]))\n",
        "lstm = LSTM(256, return_sequences=True, dropout=0.5)(inputs, training=True)\n",
        "lstm = LSTM(128, return_sequences=False, dropout=0.5)(lstm, training=True)\n",
        "dense = Dense(50)(lstm)\n",
        "out = Dense(1)(dense)\n",
        "\n",
        "model = Model(inputs, out)\n",
        "model.compile(loss='mse', optimizer='adam')\n",
        "\n",
        "# FIT FORECASTER \n",
        "es = EarlyStopping(patience=15, verbose=2, min_delta=0.001, monitor='val_loss', mode='auto', restore_best_weights=True)\n",
        "model.fit(X_train, y_train, validation_data=(X_train, y_train), \n",
        "          epochs=200, batch_size=256, verbose=1, callbacks=[es])"
      ]
    },
    {
      "cell_type": "code",
      "execution_count": null,
      "metadata": {
        "colab": {
          "base_uri": "https://localhost:8080/"
        },
        "id": "0ues_ss7u2y0",
        "outputId": "a0cc3f04-ea77-47ee-fe0d-854ff55bad84"
      },
      "outputs": [
        {
          "output_type": "stream",
          "name": "stderr",
          "text": [
            "\r  0%|          | 0/100 [00:00<?, ?it/s]"
          ]
        },
        {
          "output_type": "stream",
          "name": "stdout",
          "text": [
            "518/518 [==============================] - 2s 2ms/step\n"
          ]
        },
        {
          "output_type": "stream",
          "name": "stderr",
          "text": [
            "\r  1%|          | 1/100 [00:02<03:38,  2.21s/it]"
          ]
        },
        {
          "output_type": "stream",
          "name": "stdout",
          "text": [
            "518/518 [==============================] - 1s 2ms/step\n"
          ]
        },
        {
          "output_type": "stream",
          "name": "stderr",
          "text": [
            "\r  2%|▏         | 2/100 [00:03<03:00,  1.85s/it]"
          ]
        },
        {
          "output_type": "stream",
          "name": "stdout",
          "text": [
            "518/518 [==============================] - 1s 3ms/step\n"
          ]
        },
        {
          "output_type": "stream",
          "name": "stderr",
          "text": [
            "\r  3%|▎         | 3/100 [00:05<02:52,  1.78s/it]"
          ]
        },
        {
          "output_type": "stream",
          "name": "stdout",
          "text": [
            "518/518 [==============================] - 1s 3ms/step\n"
          ]
        },
        {
          "output_type": "stream",
          "name": "stderr",
          "text": [
            "\r  4%|▍         | 4/100 [00:07<02:46,  1.73s/it]"
          ]
        },
        {
          "output_type": "stream",
          "name": "stdout",
          "text": [
            "518/518 [==============================] - 1s 2ms/step\n"
          ]
        },
        {
          "output_type": "stream",
          "name": "stderr",
          "text": [
            "\r  5%|▌         | 5/100 [00:08<02:37,  1.66s/it]"
          ]
        },
        {
          "output_type": "stream",
          "name": "stdout",
          "text": [
            "518/518 [==============================] - 1s 2ms/step\n"
          ]
        },
        {
          "output_type": "stream",
          "name": "stderr",
          "text": [
            "\r  6%|▌         | 6/100 [00:10<02:32,  1.62s/it]"
          ]
        },
        {
          "output_type": "stream",
          "name": "stdout",
          "text": [
            "518/518 [==============================] - 1s 2ms/step\n"
          ]
        },
        {
          "output_type": "stream",
          "name": "stderr",
          "text": [
            "\r  7%|▋         | 7/100 [00:11<02:28,  1.60s/it]"
          ]
        },
        {
          "output_type": "stream",
          "name": "stdout",
          "text": [
            "518/518 [==============================] - 1s 2ms/step\n"
          ]
        },
        {
          "output_type": "stream",
          "name": "stderr",
          "text": [
            "\r  8%|▊         | 8/100 [00:13<02:25,  1.58s/it]"
          ]
        },
        {
          "output_type": "stream",
          "name": "stdout",
          "text": [
            "518/518 [==============================] - 1s 2ms/step\n"
          ]
        },
        {
          "output_type": "stream",
          "name": "stderr",
          "text": [
            "\r  9%|▉         | 9/100 [00:14<02:22,  1.57s/it]"
          ]
        },
        {
          "output_type": "stream",
          "name": "stdout",
          "text": [
            "518/518 [==============================] - 1s 2ms/step\n"
          ]
        },
        {
          "output_type": "stream",
          "name": "stderr",
          "text": [
            "\r 10%|█         | 10/100 [00:16<02:20,  1.56s/it]"
          ]
        },
        {
          "output_type": "stream",
          "name": "stdout",
          "text": [
            "518/518 [==============================] - 1s 3ms/step\n"
          ]
        },
        {
          "output_type": "stream",
          "name": "stderr",
          "text": [
            "\r 11%|█         | 11/100 [00:19<02:49,  1.90s/it]"
          ]
        },
        {
          "output_type": "stream",
          "name": "stdout",
          "text": [
            "518/518 [==============================] - 1s 3ms/step\n"
          ]
        },
        {
          "output_type": "stream",
          "name": "stderr",
          "text": [
            "\r 12%|█▏        | 12/100 [00:20<02:40,  1.82s/it]"
          ]
        },
        {
          "output_type": "stream",
          "name": "stdout",
          "text": [
            "518/518 [==============================] - 1s 2ms/step\n"
          ]
        },
        {
          "output_type": "stream",
          "name": "stderr",
          "text": [
            "\r 13%|█▎        | 13/100 [00:22<02:30,  1.73s/it]"
          ]
        },
        {
          "output_type": "stream",
          "name": "stdout",
          "text": [
            "518/518 [==============================] - 1s 2ms/step\n"
          ]
        },
        {
          "output_type": "stream",
          "name": "stderr",
          "text": [
            "\r 14%|█▍        | 14/100 [00:23<02:23,  1.67s/it]"
          ]
        },
        {
          "output_type": "stream",
          "name": "stdout",
          "text": [
            "518/518 [==============================] - 1s 2ms/step\n"
          ]
        },
        {
          "output_type": "stream",
          "name": "stderr",
          "text": [
            "\r 15%|█▌        | 15/100 [00:25<02:18,  1.62s/it]"
          ]
        },
        {
          "output_type": "stream",
          "name": "stdout",
          "text": [
            "518/518 [==============================] - 1s 2ms/step\n"
          ]
        },
        {
          "output_type": "stream",
          "name": "stderr",
          "text": [
            "\r 16%|█▌        | 16/100 [00:26<02:14,  1.60s/it]"
          ]
        },
        {
          "output_type": "stream",
          "name": "stdout",
          "text": [
            "518/518 [==============================] - 1s 2ms/step\n"
          ]
        },
        {
          "output_type": "stream",
          "name": "stderr",
          "text": [
            "\r 17%|█▋        | 17/100 [00:28<02:10,  1.57s/it]"
          ]
        },
        {
          "output_type": "stream",
          "name": "stdout",
          "text": [
            "518/518 [==============================] - 1s 2ms/step\n"
          ]
        },
        {
          "output_type": "stream",
          "name": "stderr",
          "text": [
            "\r 18%|█▊        | 18/100 [00:29<02:08,  1.56s/it]"
          ]
        },
        {
          "output_type": "stream",
          "name": "stdout",
          "text": [
            "518/518 [==============================] - 1s 3ms/step\n"
          ]
        },
        {
          "output_type": "stream",
          "name": "stderr",
          "text": [
            "\r 19%|█▉        | 19/100 [00:31<02:09,  1.60s/it]"
          ]
        },
        {
          "output_type": "stream",
          "name": "stdout",
          "text": [
            "518/518 [==============================] - 1s 3ms/step\n"
          ]
        },
        {
          "output_type": "stream",
          "name": "stderr",
          "text": [
            "\r 20%|██        | 20/100 [00:33<02:10,  1.63s/it]"
          ]
        },
        {
          "output_type": "stream",
          "name": "stdout",
          "text": [
            "518/518 [==============================] - 1s 2ms/step\n"
          ]
        },
        {
          "output_type": "stream",
          "name": "stderr",
          "text": [
            "\r 21%|██        | 21/100 [00:35<02:34,  1.95s/it]"
          ]
        },
        {
          "output_type": "stream",
          "name": "stdout",
          "text": [
            "518/518 [==============================] - 1s 2ms/step\n"
          ]
        },
        {
          "output_type": "stream",
          "name": "stderr",
          "text": [
            "\r 22%|██▏       | 22/100 [00:37<02:22,  1.83s/it]"
          ]
        },
        {
          "output_type": "stream",
          "name": "stdout",
          "text": [
            "518/518 [==============================] - 1s 2ms/step\n"
          ]
        },
        {
          "output_type": "stream",
          "name": "stderr",
          "text": [
            "\r 23%|██▎       | 23/100 [00:39<02:14,  1.75s/it]"
          ]
        },
        {
          "output_type": "stream",
          "name": "stdout",
          "text": [
            "518/518 [==============================] - 1s 2ms/step\n"
          ]
        },
        {
          "output_type": "stream",
          "name": "stderr",
          "text": [
            "\r 24%|██▍       | 24/100 [00:40<02:08,  1.69s/it]"
          ]
        },
        {
          "output_type": "stream",
          "name": "stdout",
          "text": [
            "518/518 [==============================] - 1s 2ms/step\n"
          ]
        },
        {
          "output_type": "stream",
          "name": "stderr",
          "text": [
            "\r 25%|██▌       | 25/100 [00:42<02:03,  1.64s/it]"
          ]
        },
        {
          "output_type": "stream",
          "name": "stdout",
          "text": [
            "518/518 [==============================] - 1s 2ms/step\n"
          ]
        },
        {
          "output_type": "stream",
          "name": "stderr",
          "text": [
            "\r 26%|██▌       | 26/100 [00:43<02:00,  1.63s/it]"
          ]
        },
        {
          "output_type": "stream",
          "name": "stdout",
          "text": [
            "518/518 [==============================] - 1s 3ms/step\n"
          ]
        },
        {
          "output_type": "stream",
          "name": "stderr",
          "text": [
            "\r 27%|██▋       | 27/100 [00:45<02:00,  1.65s/it]"
          ]
        },
        {
          "output_type": "stream",
          "name": "stdout",
          "text": [
            "518/518 [==============================] - 1s 3ms/step\n"
          ]
        },
        {
          "output_type": "stream",
          "name": "stderr",
          "text": [
            "\r 28%|██▊       | 28/100 [00:47<02:00,  1.67s/it]"
          ]
        },
        {
          "output_type": "stream",
          "name": "stdout",
          "text": [
            "518/518 [==============================] - 1s 2ms/step\n"
          ]
        },
        {
          "output_type": "stream",
          "name": "stderr",
          "text": [
            "\r 29%|██▉       | 29/100 [00:48<01:55,  1.63s/it]"
          ]
        },
        {
          "output_type": "stream",
          "name": "stdout",
          "text": [
            "518/518 [==============================] - 1s 2ms/step\n"
          ]
        },
        {
          "output_type": "stream",
          "name": "stderr",
          "text": [
            "\r 30%|███       | 30/100 [00:50<01:51,  1.60s/it]"
          ]
        },
        {
          "output_type": "stream",
          "name": "stdout",
          "text": [
            "518/518 [==============================] - 1s 2ms/step\n"
          ]
        },
        {
          "output_type": "stream",
          "name": "stderr",
          "text": [
            "\r 31%|███       | 31/100 [00:51<01:48,  1.58s/it]"
          ]
        },
        {
          "output_type": "stream",
          "name": "stdout",
          "text": [
            "518/518 [==============================] - 1s 2ms/step\n"
          ]
        },
        {
          "output_type": "stream",
          "name": "stderr",
          "text": [
            "\r 32%|███▏      | 32/100 [00:53<01:46,  1.56s/it]"
          ]
        },
        {
          "output_type": "stream",
          "name": "stdout",
          "text": [
            "518/518 [==============================] - 1s 2ms/step\n"
          ]
        },
        {
          "output_type": "stream",
          "name": "stderr",
          "text": [
            "\r 33%|███▎      | 33/100 [00:55<01:59,  1.78s/it]"
          ]
        },
        {
          "output_type": "stream",
          "name": "stdout",
          "text": [
            "518/518 [==============================] - 1s 2ms/step\n"
          ]
        },
        {
          "output_type": "stream",
          "name": "stderr",
          "text": [
            "\r 34%|███▍      | 34/100 [00:57<01:52,  1.71s/it]"
          ]
        },
        {
          "output_type": "stream",
          "name": "stdout",
          "text": [
            "518/518 [==============================] - 1s 3ms/step\n"
          ]
        },
        {
          "output_type": "stream",
          "name": "stderr",
          "text": [
            "\r 35%|███▌      | 35/100 [00:58<01:51,  1.72s/it]"
          ]
        },
        {
          "output_type": "stream",
          "name": "stdout",
          "text": [
            "518/518 [==============================] - 1s 3ms/step\n"
          ]
        },
        {
          "output_type": "stream",
          "name": "stderr",
          "text": [
            "\r 36%|███▌      | 36/100 [01:00<01:49,  1.72s/it]"
          ]
        },
        {
          "output_type": "stream",
          "name": "stdout",
          "text": [
            "518/518 [==============================] - 1s 2ms/step\n"
          ]
        },
        {
          "output_type": "stream",
          "name": "stderr",
          "text": [
            "\r 37%|███▋      | 37/100 [01:02<01:44,  1.67s/it]"
          ]
        },
        {
          "output_type": "stream",
          "name": "stdout",
          "text": [
            "518/518 [==============================] - 1s 2ms/step\n"
          ]
        },
        {
          "output_type": "stream",
          "name": "stderr",
          "text": [
            "\r 38%|███▊      | 38/100 [01:03<01:40,  1.63s/it]"
          ]
        },
        {
          "output_type": "stream",
          "name": "stdout",
          "text": [
            "518/518 [==============================] - 1s 2ms/step\n"
          ]
        },
        {
          "output_type": "stream",
          "name": "stderr",
          "text": [
            "\r 39%|███▉      | 39/100 [01:05<01:37,  1.60s/it]"
          ]
        },
        {
          "output_type": "stream",
          "name": "stdout",
          "text": [
            "518/518 [==============================] - 1s 2ms/step\n"
          ]
        },
        {
          "output_type": "stream",
          "name": "stderr",
          "text": [
            "\r 40%|████      | 40/100 [01:06<01:34,  1.58s/it]"
          ]
        },
        {
          "output_type": "stream",
          "name": "stdout",
          "text": [
            "518/518 [==============================] - 1s 2ms/step\n"
          ]
        },
        {
          "output_type": "stream",
          "name": "stderr",
          "text": [
            "\r 41%|████      | 41/100 [01:08<01:32,  1.57s/it]"
          ]
        },
        {
          "output_type": "stream",
          "name": "stdout",
          "text": [
            "518/518 [==============================] - 1s 2ms/step\n"
          ]
        },
        {
          "output_type": "stream",
          "name": "stderr",
          "text": [
            "\r 42%|████▏     | 42/100 [01:09<01:30,  1.56s/it]"
          ]
        },
        {
          "output_type": "stream",
          "name": "stdout",
          "text": [
            "518/518 [==============================] - 1s 2ms/step\n"
          ]
        },
        {
          "output_type": "stream",
          "name": "stderr",
          "text": [
            "\r 43%|████▎     | 43/100 [01:11<01:30,  1.58s/it]"
          ]
        },
        {
          "output_type": "stream",
          "name": "stdout",
          "text": [
            "518/518 [==============================] - 1s 3ms/step\n"
          ]
        },
        {
          "output_type": "stream",
          "name": "stderr",
          "text": [
            "\r 44%|████▍     | 44/100 [01:13<01:30,  1.61s/it]"
          ]
        },
        {
          "output_type": "stream",
          "name": "stdout",
          "text": [
            "518/518 [==============================] - 1s 3ms/step\n"
          ]
        },
        {
          "output_type": "stream",
          "name": "stderr",
          "text": [
            "\r 45%|████▌     | 45/100 [01:14<01:30,  1.65s/it]"
          ]
        },
        {
          "output_type": "stream",
          "name": "stdout",
          "text": [
            "518/518 [==============================] - 1s 2ms/step\n"
          ]
        },
        {
          "output_type": "stream",
          "name": "stderr",
          "text": [
            "\r 46%|████▌     | 46/100 [01:16<01:27,  1.62s/it]"
          ]
        },
        {
          "output_type": "stream",
          "name": "stdout",
          "text": [
            "518/518 [==============================] - 1s 2ms/step\n"
          ]
        },
        {
          "output_type": "stream",
          "name": "stderr",
          "text": [
            "\r 47%|████▋     | 47/100 [01:17<01:25,  1.61s/it]"
          ]
        },
        {
          "output_type": "stream",
          "name": "stdout",
          "text": [
            "518/518 [==============================] - 1s 2ms/step\n"
          ]
        },
        {
          "output_type": "stream",
          "name": "stderr",
          "text": [
            "\r 48%|████▊     | 48/100 [01:19<01:22,  1.59s/it]"
          ]
        },
        {
          "output_type": "stream",
          "name": "stdout",
          "text": [
            "518/518 [==============================] - 1s 2ms/step\n"
          ]
        },
        {
          "output_type": "stream",
          "name": "stderr",
          "text": [
            "\r 49%|████▉     | 49/100 [01:21<01:20,  1.57s/it]"
          ]
        },
        {
          "output_type": "stream",
          "name": "stdout",
          "text": [
            "518/518 [==============================] - 1s 2ms/step\n"
          ]
        },
        {
          "output_type": "stream",
          "name": "stderr",
          "text": [
            "\r 50%|█████     | 50/100 [01:22<01:18,  1.57s/it]"
          ]
        },
        {
          "output_type": "stream",
          "name": "stdout",
          "text": [
            "518/518 [==============================] - 1s 2ms/step\n"
          ]
        },
        {
          "output_type": "stream",
          "name": "stderr",
          "text": [
            "\r 51%|█████     | 51/100 [01:24<01:16,  1.57s/it]"
          ]
        },
        {
          "output_type": "stream",
          "name": "stdout",
          "text": [
            "518/518 [==============================] - 1s 3ms/step\n"
          ]
        },
        {
          "output_type": "stream",
          "name": "stderr",
          "text": [
            "\r 52%|█████▏    | 52/100 [01:25<01:18,  1.63s/it]"
          ]
        },
        {
          "output_type": "stream",
          "name": "stdout",
          "text": [
            "518/518 [==============================] - 1s 3ms/step\n"
          ]
        },
        {
          "output_type": "stream",
          "name": "stderr",
          "text": [
            "\r 53%|█████▎    | 53/100 [01:27<01:18,  1.67s/it]"
          ]
        },
        {
          "output_type": "stream",
          "name": "stdout",
          "text": [
            "518/518 [==============================] - 1s 2ms/step\n"
          ]
        },
        {
          "output_type": "stream",
          "name": "stderr",
          "text": [
            "\r 54%|█████▍    | 54/100 [01:29<01:15,  1.65s/it]"
          ]
        },
        {
          "output_type": "stream",
          "name": "stdout",
          "text": [
            "518/518 [==============================] - 1s 2ms/step\n"
          ]
        },
        {
          "output_type": "stream",
          "name": "stderr",
          "text": [
            "\r 55%|█████▌    | 55/100 [01:30<01:13,  1.64s/it]"
          ]
        },
        {
          "output_type": "stream",
          "name": "stdout",
          "text": [
            "518/518 [==============================] - 1s 2ms/step\n"
          ]
        },
        {
          "output_type": "stream",
          "name": "stderr",
          "text": [
            "\r 56%|█████▌    | 56/100 [01:32<01:12,  1.64s/it]"
          ]
        },
        {
          "output_type": "stream",
          "name": "stdout",
          "text": [
            "518/518 [==============================] - 1s 2ms/step\n"
          ]
        },
        {
          "output_type": "stream",
          "name": "stderr",
          "text": [
            "\r 57%|█████▋    | 57/100 [01:34<01:10,  1.63s/it]"
          ]
        },
        {
          "output_type": "stream",
          "name": "stdout",
          "text": [
            "518/518 [==============================] - 1s 2ms/step\n"
          ]
        },
        {
          "output_type": "stream",
          "name": "stderr",
          "text": [
            "\r 58%|█████▊    | 58/100 [01:35<01:08,  1.62s/it]"
          ]
        },
        {
          "output_type": "stream",
          "name": "stdout",
          "text": [
            "518/518 [==============================] - 1s 2ms/step\n"
          ]
        },
        {
          "output_type": "stream",
          "name": "stderr",
          "text": [
            "\r 59%|█████▉    | 59/100 [01:37<01:06,  1.63s/it]"
          ]
        },
        {
          "output_type": "stream",
          "name": "stdout",
          "text": [
            "518/518 [==============================] - 1s 3ms/step\n"
          ]
        },
        {
          "output_type": "stream",
          "name": "stderr",
          "text": [
            "\r 60%|██████    | 60/100 [01:39<01:06,  1.67s/it]"
          ]
        },
        {
          "output_type": "stream",
          "name": "stdout",
          "text": [
            "518/518 [==============================] - 1s 3ms/step\n"
          ]
        },
        {
          "output_type": "stream",
          "name": "stderr",
          "text": [
            "\r 61%|██████    | 61/100 [01:41<01:06,  1.70s/it]"
          ]
        },
        {
          "output_type": "stream",
          "name": "stdout",
          "text": [
            "518/518 [==============================] - 1s 2ms/step\n"
          ]
        },
        {
          "output_type": "stream",
          "name": "stderr",
          "text": [
            "\r 62%|██████▏   | 62/100 [01:42<01:03,  1.67s/it]"
          ]
        },
        {
          "output_type": "stream",
          "name": "stdout",
          "text": [
            "518/518 [==============================] - 1s 2ms/step\n"
          ]
        },
        {
          "output_type": "stream",
          "name": "stderr",
          "text": [
            "\r 63%|██████▎   | 63/100 [01:44<01:00,  1.64s/it]"
          ]
        },
        {
          "output_type": "stream",
          "name": "stdout",
          "text": [
            "518/518 [==============================] - 1s 2ms/step\n"
          ]
        },
        {
          "output_type": "stream",
          "name": "stderr",
          "text": [
            "\r 64%|██████▍   | 64/100 [01:45<00:59,  1.64s/it]"
          ]
        },
        {
          "output_type": "stream",
          "name": "stdout",
          "text": [
            "518/518 [==============================] - 1s 2ms/step\n"
          ]
        },
        {
          "output_type": "stream",
          "name": "stderr",
          "text": [
            "\r 65%|██████▌   | 65/100 [01:47<00:56,  1.62s/it]"
          ]
        },
        {
          "output_type": "stream",
          "name": "stdout",
          "text": [
            "518/518 [==============================] - 1s 2ms/step\n"
          ]
        },
        {
          "output_type": "stream",
          "name": "stderr",
          "text": [
            "\r 66%|██████▌   | 66/100 [01:48<00:54,  1.60s/it]"
          ]
        },
        {
          "output_type": "stream",
          "name": "stdout",
          "text": [
            "518/518 [==============================] - 1s 2ms/step\n"
          ]
        },
        {
          "output_type": "stream",
          "name": "stderr",
          "text": [
            "\r 67%|██████▋   | 67/100 [01:50<00:52,  1.59s/it]"
          ]
        },
        {
          "output_type": "stream",
          "name": "stdout",
          "text": [
            "518/518 [==============================] - 1s 3ms/step\n"
          ]
        },
        {
          "output_type": "stream",
          "name": "stderr",
          "text": [
            "\r 68%|██████▊   | 68/100 [01:53<01:01,  1.92s/it]"
          ]
        },
        {
          "output_type": "stream",
          "name": "stdout",
          "text": [
            "518/518 [==============================] - 1s 3ms/step\n"
          ]
        },
        {
          "output_type": "stream",
          "name": "stderr",
          "text": [
            "\r 69%|██████▉   | 69/100 [01:55<01:06,  2.15s/it]"
          ]
        },
        {
          "output_type": "stream",
          "name": "stdout",
          "text": [
            "518/518 [==============================] - 1s 2ms/step\n"
          ]
        },
        {
          "output_type": "stream",
          "name": "stderr",
          "text": [
            "\r 70%|███████   | 70/100 [01:57<00:59,  1.97s/it]"
          ]
        },
        {
          "output_type": "stream",
          "name": "stdout",
          "text": [
            "518/518 [==============================] - 1s 2ms/step\n"
          ]
        },
        {
          "output_type": "stream",
          "name": "stderr",
          "text": [
            "\r 71%|███████   | 71/100 [01:59<00:53,  1.86s/it]"
          ]
        },
        {
          "output_type": "stream",
          "name": "stdout",
          "text": [
            "518/518 [==============================] - 1s 2ms/step\n"
          ]
        },
        {
          "output_type": "stream",
          "name": "stderr",
          "text": [
            "\r 72%|███████▏  | 72/100 [02:00<00:49,  1.76s/it]"
          ]
        },
        {
          "output_type": "stream",
          "name": "stdout",
          "text": [
            "518/518 [==============================] - 1s 2ms/step\n"
          ]
        },
        {
          "output_type": "stream",
          "name": "stderr",
          "text": [
            "\r 73%|███████▎  | 73/100 [02:02<00:46,  1.71s/it]"
          ]
        },
        {
          "output_type": "stream",
          "name": "stdout",
          "text": [
            "518/518 [==============================] - 1s 2ms/step\n"
          ]
        },
        {
          "output_type": "stream",
          "name": "stderr",
          "text": [
            "\r 74%|███████▍  | 74/100 [02:03<00:43,  1.66s/it]"
          ]
        },
        {
          "output_type": "stream",
          "name": "stdout",
          "text": [
            "518/518 [==============================] - 1s 2ms/step\n"
          ]
        },
        {
          "output_type": "stream",
          "name": "stderr",
          "text": [
            "\r 75%|███████▌  | 75/100 [02:05<00:41,  1.66s/it]"
          ]
        },
        {
          "output_type": "stream",
          "name": "stdout",
          "text": [
            "518/518 [==============================] - 1s 3ms/step\n"
          ]
        },
        {
          "output_type": "stream",
          "name": "stderr",
          "text": [
            "\r 76%|███████▌  | 76/100 [02:07<00:40,  1.68s/it]"
          ]
        },
        {
          "output_type": "stream",
          "name": "stdout",
          "text": [
            "518/518 [==============================] - 1s 3ms/step\n"
          ]
        },
        {
          "output_type": "stream",
          "name": "stderr",
          "text": [
            "\r 77%|███████▋  | 77/100 [02:08<00:38,  1.67s/it]"
          ]
        },
        {
          "output_type": "stream",
          "name": "stdout",
          "text": [
            "518/518 [==============================] - 1s 2ms/step\n"
          ]
        },
        {
          "output_type": "stream",
          "name": "stderr",
          "text": [
            "\r 78%|███████▊  | 78/100 [02:10<00:35,  1.64s/it]"
          ]
        },
        {
          "output_type": "stream",
          "name": "stdout",
          "text": [
            "518/518 [==============================] - 1s 2ms/step\n"
          ]
        },
        {
          "output_type": "stream",
          "name": "stderr",
          "text": [
            "\r 79%|███████▉  | 79/100 [02:11<00:33,  1.61s/it]"
          ]
        },
        {
          "output_type": "stream",
          "name": "stdout",
          "text": [
            "518/518 [==============================] - 1s 2ms/step\n"
          ]
        },
        {
          "output_type": "stream",
          "name": "stderr",
          "text": [
            "\r 80%|████████  | 80/100 [02:13<00:31,  1.59s/it]"
          ]
        },
        {
          "output_type": "stream",
          "name": "stdout",
          "text": [
            "518/518 [==============================] - 1s 2ms/step\n"
          ]
        },
        {
          "output_type": "stream",
          "name": "stderr",
          "text": [
            "\r 81%|████████  | 81/100 [02:15<00:30,  1.60s/it]"
          ]
        },
        {
          "output_type": "stream",
          "name": "stdout",
          "text": [
            "518/518 [==============================] - 1s 2ms/step\n"
          ]
        },
        {
          "output_type": "stream",
          "name": "stderr",
          "text": [
            "\r 82%|████████▏ | 82/100 [02:16<00:28,  1.59s/it]"
          ]
        },
        {
          "output_type": "stream",
          "name": "stdout",
          "text": [
            "518/518 [==============================] - 1s 2ms/step\n"
          ]
        },
        {
          "output_type": "stream",
          "name": "stderr",
          "text": [
            "\r 83%|████████▎ | 83/100 [02:18<00:27,  1.60s/it]"
          ]
        },
        {
          "output_type": "stream",
          "name": "stdout",
          "text": [
            "518/518 [==============================] - 1s 3ms/step\n"
          ]
        },
        {
          "output_type": "stream",
          "name": "stderr",
          "text": [
            "\r 84%|████████▍ | 84/100 [02:19<00:26,  1.64s/it]"
          ]
        },
        {
          "output_type": "stream",
          "name": "stdout",
          "text": [
            "518/518 [==============================] - 1s 3ms/step\n"
          ]
        },
        {
          "output_type": "stream",
          "name": "stderr",
          "text": [
            "\r 85%|████████▌ | 85/100 [02:21<00:25,  1.67s/it]"
          ]
        },
        {
          "output_type": "stream",
          "name": "stdout",
          "text": [
            "518/518 [==============================] - 1s 2ms/step\n"
          ]
        },
        {
          "output_type": "stream",
          "name": "stderr",
          "text": [
            "\r 86%|████████▌ | 86/100 [02:23<00:22,  1.63s/it]"
          ]
        },
        {
          "output_type": "stream",
          "name": "stdout",
          "text": [
            "518/518 [==============================] - 1s 2ms/step\n"
          ]
        },
        {
          "output_type": "stream",
          "name": "stderr",
          "text": [
            "\r 87%|████████▋ | 87/100 [02:24<00:21,  1.62s/it]"
          ]
        },
        {
          "output_type": "stream",
          "name": "stdout",
          "text": [
            "518/518 [==============================] - 1s 2ms/step\n"
          ]
        },
        {
          "output_type": "stream",
          "name": "stderr",
          "text": [
            "\r 88%|████████▊ | 88/100 [02:26<00:19,  1.60s/it]"
          ]
        },
        {
          "output_type": "stream",
          "name": "stdout",
          "text": [
            "518/518 [==============================] - 1s 2ms/step\n"
          ]
        },
        {
          "output_type": "stream",
          "name": "stderr",
          "text": [
            "\r 89%|████████▉ | 89/100 [02:27<00:17,  1.58s/it]"
          ]
        },
        {
          "output_type": "stream",
          "name": "stdout",
          "text": [
            "518/518 [==============================] - 1s 2ms/step\n"
          ]
        },
        {
          "output_type": "stream",
          "name": "stderr",
          "text": [
            "\r 90%|█████████ | 90/100 [02:29<00:15,  1.58s/it]"
          ]
        },
        {
          "output_type": "stream",
          "name": "stdout",
          "text": [
            "518/518 [==============================] - 1s 2ms/step\n"
          ]
        },
        {
          "output_type": "stream",
          "name": "stderr",
          "text": [
            "\r 91%|█████████ | 91/100 [02:31<00:14,  1.58s/it]"
          ]
        },
        {
          "output_type": "stream",
          "name": "stdout",
          "text": [
            "518/518 [==============================] - 1s 3ms/step\n"
          ]
        },
        {
          "output_type": "stream",
          "name": "stderr",
          "text": [
            "\r 92%|█████████▏| 92/100 [02:32<00:12,  1.62s/it]"
          ]
        },
        {
          "output_type": "stream",
          "name": "stdout",
          "text": [
            "518/518 [==============================] - 1s 3ms/step\n"
          ]
        },
        {
          "output_type": "stream",
          "name": "stderr",
          "text": [
            "\r 93%|█████████▎| 93/100 [02:34<00:11,  1.63s/it]"
          ]
        },
        {
          "output_type": "stream",
          "name": "stdout",
          "text": [
            "518/518 [==============================] - 1s 2ms/step\n"
          ]
        },
        {
          "output_type": "stream",
          "name": "stderr",
          "text": [
            "\r 94%|█████████▍| 94/100 [02:36<00:09,  1.63s/it]"
          ]
        },
        {
          "output_type": "stream",
          "name": "stdout",
          "text": [
            "518/518 [==============================] - 1s 2ms/step\n"
          ]
        },
        {
          "output_type": "stream",
          "name": "stderr",
          "text": [
            "\r 95%|█████████▌| 95/100 [02:37<00:08,  1.61s/it]"
          ]
        },
        {
          "output_type": "stream",
          "name": "stdout",
          "text": [
            "518/518 [==============================] - 1s 2ms/step\n"
          ]
        },
        {
          "output_type": "stream",
          "name": "stderr",
          "text": [
            "\r 96%|█████████▌| 96/100 [02:39<00:06,  1.59s/it]"
          ]
        },
        {
          "output_type": "stream",
          "name": "stdout",
          "text": [
            "518/518 [==============================] - 1s 2ms/step\n"
          ]
        },
        {
          "output_type": "stream",
          "name": "stderr",
          "text": [
            "\r 97%|█████████▋| 97/100 [02:40<00:04,  1.59s/it]"
          ]
        },
        {
          "output_type": "stream",
          "name": "stdout",
          "text": [
            "518/518 [==============================] - 1s 2ms/step\n"
          ]
        },
        {
          "output_type": "stream",
          "name": "stderr",
          "text": [
            "\r 98%|█████████▊| 98/100 [02:42<00:03,  1.57s/it]"
          ]
        },
        {
          "output_type": "stream",
          "name": "stdout",
          "text": [
            "518/518 [==============================] - 1s 2ms/step\n"
          ]
        },
        {
          "output_type": "stream",
          "name": "stderr",
          "text": [
            "\r 99%|█████████▉| 99/100 [02:43<00:01,  1.57s/it]"
          ]
        },
        {
          "output_type": "stream",
          "name": "stdout",
          "text": [
            "518/518 [==============================] - 1s 3ms/step\n"
          ]
        },
        {
          "output_type": "stream",
          "name": "stderr",
          "text": [
            "100%|██████████| 100/100 [02:45<00:00,  1.66s/it]"
          ]
        },
        {
          "output_type": "stream",
          "name": "stdout",
          "text": [
            "0.09823227700981856 0.00022320353058958314\n"
          ]
        },
        {
          "output_type": "stream",
          "name": "stderr",
          "text": [
            "\n"
          ]
        }
      ],
      "source": [
        "# COMPUTE STOCHASTIC DROPOUT\n",
        "\n",
        "scores = []\n",
        "for i in tqdm.tqdm(range(0,100)):\n",
        "    scores.append(mean_absolute_error(y_test, model.predict(X_test).ravel()))\n",
        "\n",
        "print(np.mean(scores), np.std(scores))"
      ]
    },
    {
      "cell_type": "code",
      "execution_count": null,
      "metadata": {
        "colab": {
          "base_uri": "https://localhost:8080/"
        },
        "id": "GjtCfotyzhMT",
        "outputId": "82a94f10-2624-4cc1-c58c-fdcd66447dc5"
      },
      "outputs": [
        {
          "output_type": "stream",
          "name": "stdout",
          "text": [
            "LSTM :  {'mean': 0.09823227700981856, 'std': 0.00022320353058958314} \n",
            "\n",
            "Autoencoder+LSTM :  {'mean': 0.09961180807698787, 'std': 0.0002943399118690715} \n",
            "\n"
          ]
        }
      ],
      "source": [
        "results['LSTM'] = {'mean':np.mean(scores), 'std':np.std(scores)}\n",
        "\n",
        "for key, value in results.items():\n",
        "    print(key, ': ', value, '\\n')"
      ]
    },
    {
      "cell_type": "code",
      "execution_count": null,
      "metadata": {
        "colab": {
          "base_uri": "https://localhost:8080/"
        },
        "id": "C2zq3UVJ2uP8",
        "outputId": "9b4d501f-1bae-4c44-900a-bd11ac331329"
      },
      "outputs": [
        {
          "output_type": "stream",
          "name": "stdout",
          "text": [
            "518/518 [==============================] - 1s 3ms/step\n",
            "Simple LSTM -  MSE: 0.0427\n",
            "Simple LSTM -  MAE: 0.0985\n"
          ]
        }
      ],
      "source": [
        "# Evaluate model on test set\n",
        "mse = model.evaluate(X_test, y_test, verbose=0)\n",
        "\n",
        "# Get model predictions on test set\n",
        "y_pred = model.predict(X_test)\n",
        "\n",
        "# Calculate MAE\n",
        "mae = mean_absolute_error(y_test, y_pred)\n",
        "\n",
        "print(f\"Simple LSTM -  MSE: {mse:.4f}\")\n",
        "print(f\"Simple LSTM -  MAE: {mae:.4f}\")\n"
      ]
    },
    {
      "cell_type": "markdown",
      "metadata": {
        "id": "g8fh4RxLpz1m"
      },
      "source": [
        "# XG BOOST (MODEL 3)"
      ]
    },
    {
      "cell_type": "code",
      "execution_count": null,
      "metadata": {
        "colab": {
          "base_uri": "https://localhost:8080/"
        },
        "id": "ZTnmtxNq7Nce",
        "outputId": "828b9402-9962-4229-ed01-d2ba470eaae0"
      },
      "outputs": [
        {
          "output_type": "stream",
          "name": "stdout",
          "text": [
            "Fitting 4 folds for each of 72 candidates, totalling 288 fits\n",
            "\n",
            "\n",
            "\n",
            "#############      Result      #################\n",
            "GridSearchCV\n",
            "Best parameters found:  {'colsample_bytree': 0.7, 'learning_rate': 0.2, 'max_depth': 5, 'n_estimators': 100, 'subsample': 0.8}\n",
            "\n",
            "Lowest MSE found:  0.021885508170423725 \n",
            "and\n",
            "Lowest MAE found:  0.08817130004169313 \n",
            "\n",
            "MSE: 0.025897\n",
            "MAE: 0.088171\n"
          ]
        }
      ],
      "source": [
        "with tf.device('/GPU:0'):\n",
        "  \n",
        "  X_train, X_test, y_train, y_test = train_test_split(\n",
        "      df.iloc[:, 3:], \n",
        "      df['RET'], \n",
        "      test_size=0.2, shuffle=False)\n",
        "\n",
        "  # We can set Grid Search Parameters\n",
        "  grid_search_params = {\n",
        "      'colsample_bytree': [0.3, 0.7],\n",
        "      'learning_rate': [0.01, 0.1, 0.2, 0.5],\n",
        "      'n_estimators': [100],\n",
        "      'subsample': [0.2, 0.5, 0.8],\n",
        "      'max_depth': [2, 3, 5]\n",
        "  }\n",
        "\n",
        "  # construct model\n",
        "  xg_grid_reg = xgb.XGBRegressor(objective= \"reg:squarederror\", tree_method='gpu_hist', gpu_id=0)\n",
        "\n",
        "  # construct grid searching \n",
        "  grid = GridSearchCV(estimator=xg_grid_reg, param_grid=grid_search_params, scoring='neg_mean_squared_error', cv=4, verbose=1)\n",
        "\n",
        "  # fitting the data\n",
        "  grid.fit(X_train, y_train)\n",
        "\n",
        "  # printing fitting result\n",
        "  print('\\n\\n\\n#############      Result      #################')\n",
        "  print(\"GridSearchCV\")\n",
        "  print(\"Best parameters found: \", grid.best_params_)\n",
        "  print(\"\\nLowest MSE found: \", -grid.best_score_,'\\nand')\n",
        "  print(\"Lowest MAE found: \", mean_absolute_error(y_test, grid.predict(X_test)), '\\n')\n",
        "\n",
        "  # Using the best parameters to make the final model\n",
        "  xg_reg = xgb.XGBRegressor(objective= \"reg:squarederror\", \n",
        "                            **grid.best_params_, tree_method='gpu_hist', gpu_id=0)\n",
        "\n",
        "  # fitting the data to the model\n",
        "  xg_reg.fit(X_train, y_train)\n",
        "\n",
        "  # prediction\n",
        "  y_pred = xg_reg.predict(X_test)\n",
        "\n",
        "  # Evaluating the model\n",
        "  mse = mean_squared_error(y_test, y_pred)\n",
        "  mae = mean_absolute_error(y_test, y_pred)\n",
        "  print(\"MSE: %f\" % (mse))\n",
        "  print(\"MAE: %f\" % (mae))\n",
        "\n",
        "\n",
        "\n",
        "\n",
        "\n"
      ]
    },
    {
      "cell_type": "markdown",
      "metadata": {
        "id": "mWwqYbo6xMro"
      },
      "source": [
        "# SHAP (MODEL 4)"
      ]
    },
    {
      "cell_type": "code",
      "execution_count": null,
      "metadata": {
        "colab": {
          "base_uri": "https://localhost:8080/"
        },
        "id": "19TQECIrURjH",
        "outputId": "d82dd1a8-77ae-46f6-b7a8-7c96b22dde80"
      },
      "outputs": [
        {
          "output_type": "stream",
          "name": "stdout",
          "text": [
            "Epoch 1/100\n",
            "6171/6171 [==============================] - 23s 3ms/step - loss: 7195893760.0000 - val_loss: 3493516288.0000\n",
            "Epoch 2/100\n",
            "6171/6171 [==============================] - 18s 3ms/step - loss: 4623366144.0000 - val_loss: 1491776768.0000\n",
            "Epoch 3/100\n",
            "6171/6171 [==============================] - 17s 3ms/step - loss: 2188482816.0000 - val_loss: 2229576192.0000\n",
            "Epoch 4/100\n",
            "6171/6171 [==============================] - 20s 3ms/step - loss: 2166764544.0000 - val_loss: 1117231360.0000\n",
            "Epoch 5/100\n",
            "6171/6171 [==============================] - 17s 3ms/step - loss: 1456536064.0000 - val_loss: 942165824.0000\n",
            "Epoch 6/100\n",
            "6171/6171 [==============================] - 19s 3ms/step - loss: 1258814208.0000 - val_loss: 1293748736.0000\n",
            "Epoch 7/100\n",
            "6171/6171 [==============================] - 18s 3ms/step - loss: 1245831936.0000 - val_loss: 1051428608.0000\n",
            "Epoch 8/100\n",
            "6171/6171 [==============================] - 20s 3ms/step - loss: 1014676288.0000 - val_loss: 868114048.0000\n",
            "Epoch 9/100\n",
            "6171/6171 [==============================] - 17s 3ms/step - loss: 993225600.0000 - val_loss: 843633024.0000\n",
            "Epoch 10/100\n",
            "6171/6171 [==============================] - 17s 3ms/step - loss: 938909120.0000 - val_loss: 902453632.0000\n",
            "Epoch 11/100\n",
            "6171/6171 [==============================] - 17s 3ms/step - loss: 951083456.0000 - val_loss: 911829120.0000\n",
            "Epoch 12/100\n",
            "6171/6171 [==============================] - 17s 3ms/step - loss: 936696512.0000 - val_loss: 874624640.0000\n",
            "Epoch 13/100\n",
            "6171/6171 [==============================] - 17s 3ms/step - loss: 892669888.0000 - val_loss: 888723584.0000\n",
            "Epoch 14/100\n",
            "6171/6171 [==============================] - 18s 3ms/step - loss: 898399680.0000 - val_loss: 797656448.0000\n",
            "Epoch 15/100\n",
            "6171/6171 [==============================] - 17s 3ms/step - loss: 890915392.0000 - val_loss: 939817472.0000\n",
            "Epoch 16/100\n",
            "6171/6171 [==============================] - 17s 3ms/step - loss: 1053570752.0000 - val_loss: 802642944.0000\n",
            "Epoch 17/100\n",
            "6171/6171 [==============================] - 17s 3ms/step - loss: 937016512.0000 - val_loss: 929837056.0000\n",
            "Epoch 18/100\n",
            "6171/6171 [==============================] - 17s 3ms/step - loss: 871275264.0000 - val_loss: 837163136.0000\n",
            "Epoch 19/100\n",
            "6171/6171 [==============================] - 17s 3ms/step - loss: 874698560.0000 - val_loss: 796034944.0000\n",
            "Epoch 20/100\n",
            "6171/6171 [==============================] - 17s 3ms/step - loss: 866969024.0000 - val_loss: 1018690816.0000\n",
            "Epoch 21/100\n",
            "6171/6171 [==============================] - 17s 3ms/step - loss: 834625216.0000 - val_loss: 817857088.0000\n",
            "Epoch 22/100\n",
            "6171/6171 [==============================] - 17s 3ms/step - loss: 851782720.0000 - val_loss: 857648192.0000\n",
            "Epoch 23/100\n",
            "6171/6171 [==============================] - 17s 3ms/step - loss: 824245376.0000 - val_loss: 758859776.0000\n",
            "Epoch 24/100\n",
            "6171/6171 [==============================] - 17s 3ms/step - loss: 830315712.0000 - val_loss: 1228353280.0000\n",
            "Epoch 25/100\n",
            "6171/6171 [==============================] - 17s 3ms/step - loss: 893409664.0000 - val_loss: 858142528.0000\n",
            "Epoch 26/100\n",
            "6171/6171 [==============================] - 17s 3ms/step - loss: 827005376.0000 - val_loss: 765619328.0000\n",
            "Epoch 27/100\n",
            "6171/6171 [==============================] - 17s 3ms/step - loss: 861941824.0000 - val_loss: 779767744.0000\n",
            "Epoch 28/100\n",
            "6171/6171 [==============================] - 17s 3ms/step - loss: 832186688.0000 - val_loss: 756185024.0000\n",
            "Epoch 29/100\n",
            "6171/6171 [==============================] - 17s 3ms/step - loss: 823827328.0000 - val_loss: 750199680.0000\n",
            "Epoch 30/100\n",
            "6171/6171 [==============================] - 17s 3ms/step - loss: 841419072.0000 - val_loss: 816085952.0000\n",
            "Epoch 31/100\n",
            "6171/6171 [==============================] - 17s 3ms/step - loss: 795479232.0000 - val_loss: 754649984.0000\n",
            "Epoch 32/100\n",
            "6171/6171 [==============================] - 17s 3ms/step - loss: 788277120.0000 - val_loss: 707172864.0000\n",
            "Epoch 33/100\n",
            "6171/6171 [==============================] - 17s 3ms/step - loss: 938588480.0000 - val_loss: 816384320.0000\n",
            "Epoch 34/100\n",
            "6171/6171 [==============================] - 17s 3ms/step - loss: 786302272.0000 - val_loss: 810594432.0000\n",
            "Epoch 35/100\n",
            "6171/6171 [==============================] - 17s 3ms/step - loss: 794844608.0000 - val_loss: 781217024.0000\n",
            "Epoch 36/100\n",
            "6171/6171 [==============================] - 17s 3ms/step - loss: 791676096.0000 - val_loss: 738892352.0000\n",
            "Epoch 37/100\n",
            "6171/6171 [==============================] - 17s 3ms/step - loss: 1102252032.0000 - val_loss: 705720832.0000\n",
            "Epoch 38/100\n",
            "6171/6171 [==============================] - 17s 3ms/step - loss: 766611904.0000 - val_loss: 749516544.0000\n",
            "Epoch 39/100\n",
            "6171/6171 [==============================] - 17s 3ms/step - loss: 836732736.0000 - val_loss: 735602560.0000\n",
            "Epoch 40/100\n",
            "6171/6171 [==============================] - 17s 3ms/step - loss: 796545280.0000 - val_loss: 833880384.0000\n",
            "Epoch 41/100\n",
            "6171/6171 [==============================] - 16s 3ms/step - loss: 774899136.0000 - val_loss: 750867328.0000\n",
            "Epoch 42/100\n",
            "6171/6171 [==============================] - 17s 3ms/step - loss: 792857344.0000 - val_loss: 733653888.0000\n",
            "Epoch 43/100\n",
            "6171/6171 [==============================] - 17s 3ms/step - loss: 779285184.0000 - val_loss: 830140544.0000\n",
            "Epoch 44/100\n",
            "6171/6171 [==============================] - 16s 3ms/step - loss: 765189760.0000 - val_loss: 778516288.0000\n",
            "Epoch 45/100\n",
            "6171/6171 [==============================] - 16s 3ms/step - loss: 760181056.0000 - val_loss: 773053376.0000\n",
            "Epoch 46/100\n",
            "6171/6171 [==============================] - 17s 3ms/step - loss: 750060480.0000 - val_loss: 789191232.0000\n",
            "Epoch 47/100\n",
            "6171/6171 [==============================] - 17s 3ms/step - loss: 765964864.0000 - val_loss: 725517056.0000\n",
            "Epoch 47: early stopping\n"
          ]
        }
      ],
      "source": [
        "# Split features and target\n",
        "X = df.drop(['RET', 'permno'], axis=1)\n",
        "y = df[['RET', 'permno']]\n",
        "\n",
        "# Spilt into train and test\n",
        "X_train, X_test, y_train, y_test = train_test_split(X, y, test_size=0.2, random_state=123)\n",
        "\n",
        "# Construct a NN classification model by TensorFlow\n",
        "with tf.device('/GPU:0'):\n",
        "    model = Sequential()\n",
        "    model.add(Dense(64, activation='relu', input_dim=X_train.shape[1]))\n",
        "    model.add(Dense(2))\n",
        "    model.compile(loss='mse', optimizer='adam')\n",
        "    early_stop = EarlyStopping(monitor='val_loss', patience=10, verbose=1)\n",
        "    model.fit(X_train, y_train, epochs=100, validation_data=(X_test, y_test), verbose=True, callbacks=[early_stop])"
      ]
    },
    {
      "cell_type": "code",
      "execution_count": null,
      "metadata": {
        "colab": {
          "base_uri": "https://localhost:8080/",
          "height": 49,
          "referenced_widgets": [
            "3854088817a64a01897b80284386a87a",
            "9603783f23f3445aa7cb7a7e6504315e",
            "387000f59ec644bcb45fbf15c7c93c51",
            "9d0fec96b3f94767b2f5d88e6fbe58ca",
            "5bcce8cefec645189ef06e6056e0a62d",
            "5e46b9a82c624c639a7f995291af9786",
            "1b8c5af8db614bb9bedd2f238286665a",
            "9d8fe380f12f43dd940727b146e8f3ac",
            "28957af21b34467fbb6d73877cc1824f",
            "17625932d7504ac1997a6638634b15cf",
            "a2457f9e8c594ab5bc309e87c9668a53"
          ]
        },
        "id": "-bdCB5WrUsmm",
        "outputId": "591e6bdf-6409-4dbb-da46-e6ff152a1095"
      },
      "outputs": [
        {
          "output_type": "display_data",
          "data": {
            "text/plain": [
              "  0%|          | 0/300 [00:00<?, ?it/s]"
            ],
            "application/vnd.jupyter.widget-view+json": {
              "version_major": 2,
              "version_minor": 0,
              "model_id": "3854088817a64a01897b80284386a87a"
            }
          },
          "metadata": {}
        }
      ],
      "source": [
        "# Define the explainer\n",
        "# Shap has many explainers, Kernelexplainer supports tensorflow NN model\n",
        "explainer = shap.KernelExplainer(model,X_train.iloc[:50,:])\n",
        "\n",
        "# Calculate the SHAP values for each feature using 300 rows, \n",
        "shap_values = explainer.shap_values(X_train.iloc[:300,:])"
      ]
    },
    {
      "cell_type": "code",
      "execution_count": null,
      "metadata": {
        "colab": {
          "base_uri": "https://localhost:8080/",
          "height": 957
        },
        "id": "siS5iHIjUvQw",
        "outputId": "250ef31a-7ecb-4d24-a00f-ee18a3b9aaef"
      },
      "outputs": [
        {
          "output_type": "display_data",
          "data": {
            "text/plain": [
              "<Figure size 800x950 with 1 Axes>"
            ],
            "image/png": "[encoded data removed]"
          },
          "metadata": {}
        }
      ],
      "source": [
        "#### show some results ####\n",
        "\n",
        "expected_value = explainer.expected_value\n",
        "\n",
        "# visulize the feature importance\n",
        "shap.summary_plot(shap_values, X_train, plot_type=\"bar\")\n"
      ]
    }
  ],
  "metadata": {
    "accelerator": "GPU",
    "colab": {
      "collapsed_sections": [
        "ENFi10JowQa1",
        "AG55uDeAwZ1j",
        "7QLQCm17wqut",
        "mO8FVjQLM2f2",
        "XFnhJJdZw1BE",
        "3WOs6YVlytOA",
        "b1v-C3KyR5Dq",
        "V_IgOnpAxHmJ",
        "g8fh4RxLpz1m",
        "mWwqYbo6xMro"
      ],
      "machine_shape": "hm",
      "provenance": []
    },
    "gpuClass": "standard",
    "kernelspec": {
      "display_name": "Python 3",
      "name": "python3"
    },
    "language_info": {
      "name": "python"
    },
    "widgets": {
      "application/vnd.jupyter.widget-state+json": {
        "3854088817a64a01897b80284386a87a": {
          "model_module": "@jupyter-widgets/controls",
          "model_name": "HBoxModel",
          "model_module_version": "1.5.0",
          "state": {
            "_dom_classes": [],
            "_model_module": "@jupyter-widgets/controls",
            "_model_module_version": "1.5.0",
            "_model_name": "HBoxModel",
            "_view_count": null,
            "_view_module": "@jupyter-widgets/controls",
            "_view_module_version": "1.5.0",
            "_view_name": "HBoxView",
            "box_style": "",
            "children": [
              "IPY_MODEL_9603783f23f3445aa7cb7a7e6504315e",
              "IPY_MODEL_387000f59ec644bcb45fbf15c7c93c51",
              "IPY_MODEL_9d0fec96b3f94767b2f5d88e6fbe58ca"
            ],
            "layout": "IPY_MODEL_5bcce8cefec645189ef06e6056e0a62d"
          }
        },
        "9603783f23f3445aa7cb7a7e6504315e": {
          "model_module": "@jupyter-widgets/controls",
          "model_name": "HTMLModel",
          "model_module_version": "1.5.0",
          "state": {
            "_dom_classes": [],
            "_model_module": "@jupyter-widgets/controls",
            "_model_module_version": "1.5.0",
            "_model_name": "HTMLModel",
            "_view_count": null,
            "_view_module": "@jupyter-widgets/controls",
            "_view_module_version": "1.5.0",
            "_view_name": "HTMLView",
            "description": "",
            "description_tooltip": null,
            "layout": "IPY_MODEL_5e46b9a82c624c639a7f995291af9786",
            "placeholder": "​",
            "style": "IPY_MODEL_1b8c5af8db614bb9bedd2f238286665a",
            "value": "100%"
          }
        },
        "387000f59ec644bcb45fbf15c7c93c51": {
          "model_module": "@jupyter-widgets/controls",
          "model_name": "FloatProgressModel",
          "model_module_version": "1.5.0",
          "state": {
            "_dom_classes": [],
            "_model_module": "@jupyter-widgets/controls",
            "_model_module_version": "1.5.0",
            "_model_name": "FloatProgressModel",
            "_view_count": null,
            "_view_module": "@jupyter-widgets/controls",
            "_view_module_version": "1.5.0",
            "_view_name": "ProgressView",
            "bar_style": "success",
            "description": "",
            "description_tooltip": null,
            "layout": "IPY_MODEL_9d8fe380f12f43dd940727b146e8f3ac",
            "max": 300,
            "min": 0,
            "orientation": "horizontal",
            "style": "IPY_MODEL_28957af21b34467fbb6d73877cc1824f",
            "value": 300
          }
        },
        "9d0fec96b3f94767b2f5d88e6fbe58ca": {
          "model_module": "@jupyter-widgets/controls",
          "model_name": "HTMLModel",
          "model_module_version": "1.5.0",
          "state": {
            "_dom_classes": [],
            "_model_module": "@jupyter-widgets/controls",
            "_model_module_version": "1.5.0",
            "_model_name": "HTMLModel",
            "_view_count": null,
            "_view_module": "@jupyter-widgets/controls",
            "_view_module_version": "1.5.0",
            "_view_name": "HTMLView",
            "description": "",
            "description_tooltip": null,
            "layout": "IPY_MODEL_17625932d7504ac1997a6638634b15cf",
            "placeholder": "​",
            "style": "IPY_MODEL_a2457f9e8c594ab5bc309e87c9668a53",
            "value": " 300/300 [04:11&lt;00:00,  1.17it/s]"
          }
        },
        "5bcce8cefec645189ef06e6056e0a62d": {
          "model_module": "@jupyter-widgets/base",
          "model_name": "LayoutModel",
          "model_module_version": "1.2.0",
          "state": {
            "_model_module": "@jupyter-widgets/base",
            "_model_module_version": "1.2.0",
            "_model_name": "LayoutModel",
            "_view_count": null,
            "_view_module": "@jupyter-widgets/base",
            "_view_module_version": "1.2.0",
            "_view_name": "LayoutView",
            "align_content": null,
            "align_items": null,
            "align_self": null,
            "border": null,
            "bottom": null,
            "display": null,
            "flex": null,
            "flex_flow": null,
            "grid_area": null,
            "grid_auto_columns": null,
            "grid_auto_flow": null,
            "grid_auto_rows": null,
            "grid_column": null,
            "grid_gap": null,
            "grid_row": null,
            "grid_template_areas": null,
            "grid_template_columns": null,
            "grid_template_rows": null,
            "height": null,
            "justify_content": null,
            "justify_items": null,
            "left": null,
            "margin": null,
            "max_height": null,
            "max_width": null,
            "min_height": null,
            "min_width": null,
            "object_fit": null,
            "object_position": null,
            "order": null,
            "overflow": null,
            "overflow_x": null,
            "overflow_y": null,
            "padding": null,
            "right": null,
            "top": null,
            "visibility": null,
            "width": null
          }
        },
        "5e46b9a82c624c639a7f995291af9786": {
          "model_module": "@jupyter-widgets/base",
          "model_name": "LayoutModel",
          "model_module_version": "1.2.0",
          "state": {
            "_model_module": "@jupyter-widgets/base",
            "_model_module_version": "1.2.0",
            "_model_name": "LayoutModel",
            "_view_count": null,
            "_view_module": "@jupyter-widgets/base",
            "_view_module_version": "1.2.0",
            "_view_name": "LayoutView",
            "align_content": null,
            "align_items": null,
            "align_self": null,
            "border": null,
            "bottom": null,
            "display": null,
            "flex": null,
            "flex_flow": null,
            "grid_area": null,
            "grid_auto_columns": null,
            "grid_auto_flow": null,
            "grid_auto_rows": null,
            "grid_column": null,
            "grid_gap": null,
            "grid_row": null,
            "grid_template_areas": null,
            "grid_template_columns": null,
            "grid_template_rows": null,
            "height": null,
            "justify_content": null,
            "justify_items": null,
            "left": null,
            "margin": null,
            "max_height": null,
            "max_width": null,
            "min_height": null,
            "min_width": null,
            "object_fit": null,
            "object_position": null,
            "order": null,
            "overflow": null,
            "overflow_x": null,
            "overflow_y": null,
            "padding": null,
            "right": null,
            "top": null,
            "visibility": null,
            "width": null
          }
        },
        "1b8c5af8db614bb9bedd2f238286665a": {
          "model_module": "@jupyter-widgets/controls",
          "model_name": "DescriptionStyleModel",
          "model_module_version": "1.5.0",
          "state": {
            "_model_module": "@jupyter-widgets/controls",
            "_model_module_version": "1.5.0",
            "_model_name": "DescriptionStyleModel",
            "_view_count": null,
            "_view_module": "@jupyter-widgets/base",
            "_view_module_version": "1.2.0",
            "_view_name": "StyleView",
            "description_width": ""
          }
        },
        "9d8fe380f12f43dd940727b146e8f3ac": {
          "model_module": "@jupyter-widgets/base",
          "model_name": "LayoutModel",
          "model_module_version": "1.2.0",
          "state": {
            "_model_module": "@jupyter-widgets/base",
            "_model_module_version": "1.2.0",
            "_model_name": "LayoutModel",
            "_view_count": null,
            "_view_module": "@jupyter-widgets/base",
            "_view_module_version": "1.2.0",
            "_view_name": "LayoutView",
            "align_content": null,
            "align_items": null,
            "align_self": null,
            "border": null,
            "bottom": null,
            "display": null,
            "flex": null,
            "flex_flow": null,
            "grid_area": null,
            "grid_auto_columns": null,
            "grid_auto_flow": null,
            "grid_auto_rows": null,
            "grid_column": null,
            "grid_gap": null,
            "grid_row": null,
            "grid_template_areas": null,
            "grid_template_columns": null,
            "grid_template_rows": null,
            "height": null,
            "justify_content": null,
            "justify_items": null,
            "left": null,
            "margin": null,
            "max_height": null,
            "max_width": null,
            "min_height": null,
            "min_width": null,
            "object_fit": null,
            "object_position": null,
            "order": null,
            "overflow": null,
            "overflow_x": null,
            "overflow_y": null,
            "padding": null,
            "right": null,
            "top": null,
            "visibility": null,
            "width": null
          }
        },
        "28957af21b34467fbb6d73877cc1824f": {
          "model_module": "@jupyter-widgets/controls",
          "model_name": "ProgressStyleModel",
          "model_module_version": "1.5.0",
          "state": {
            "_model_module": "@jupyter-widgets/controls",
            "_model_module_version": "1.5.0",
            "_model_name": "ProgressStyleModel",
            "_view_count": null,
            "_view_module": "@jupyter-widgets/base",
            "_view_module_version": "1.2.0",
            "_view_name": "StyleView",
            "bar_color": null,
            "description_width": ""
          }
        },
        "17625932d7504ac1997a6638634b15cf": {
          "model_module": "@jupyter-widgets/base",
          "model_name": "LayoutModel",
          "model_module_version": "1.2.0",
          "state": {
            "_model_module": "@jupyter-widgets/base",
            "_model_module_version": "1.2.0",
            "_model_name": "LayoutModel",
            "_view_count": null,
            "_view_module": "@jupyter-widgets/base",
            "_view_module_version": "1.2.0",
            "_view_name": "LayoutView",
            "align_content": null,
            "align_items": null,
            "align_self": null,
            "border": null,
            "bottom": null,
            "display": null,
            "flex": null,
            "flex_flow": null,
            "grid_area": null,
            "grid_auto_columns": null,
            "grid_auto_flow": null,
            "grid_auto_rows": null,
            "grid_column": null,
            "grid_gap": null,
            "grid_row": null,
            "grid_template_areas": null,
            "grid_template_columns": null,
            "grid_template_rows": null,
            "height": null,
            "justify_content": null,
            "justify_items": null,
            "left": null,
            "margin": null,
            "max_height": null,
            "max_width": null,
            "min_height": null,
            "min_width": null,
            "object_fit": null,
            "object_position": null,
            "order": null,
            "overflow": null,
            "overflow_x": null,
            "overflow_y": null,
            "padding": null,
            "right": null,
            "top": null,
            "visibility": null,
            "width": null
          }
        },
        "a2457f9e8c594ab5bc309e87c9668a53": {
          "model_module": "@jupyter-widgets/controls",
          "model_name": "DescriptionStyleModel",
          "model_module_version": "1.5.0",
          "state": {
            "_model_module": "@jupyter-widgets/controls",
            "_model_module_version": "1.5.0",
            "_model_name": "DescriptionStyleModel",
            "_view_count": null,
            "_view_module": "@jupyter-widgets/base",
            "_view_module_version": "1.2.0",
            "_view_name": "StyleView",
            "description_width": ""
          }
        }
      }
    }
  },
  "nbformat": 4,
  "nbformat_minor": 0
}